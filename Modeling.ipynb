{
 "cells": [
  {
   "cell_type": "markdown",
   "id": "de575be4-8eff-4690-80d5-c4503d66aa69",
   "metadata": {},
   "source": [
    "This work is based on **[Kaggle competition](https://www.kaggle.com/competitions/store-sales-time-series-forecasting)**.\n",
    "<br>\n",
    "<br>\n",
    "This is the **modeling (2nd)** part of the project (that consists of 2 notebooks). Key steps that are presented in this part:\n",
    "1. **Econometric models**\n",
    "    - Single exponential smoothing (Simple exponential smoothing)\n",
    "    - Double exponential smoothing (Holt)\n",
    "    - Triple exponential smoothing (Holt-Winters)\n",
    "    - SARIMA\n",
    "2. **Machine Learning models**\n",
    "    - Ridge\n",
    "    - Lasso\n",
    "    - Elastic Net\n",
    "    - Random Forest\n",
    "    - k-NN\n",
    "    - XGBoost\n",
    "    - LightGBM\n",
    "3. **Neural Network models**\n",
    "    - LSTM\n",
    "4. **Ensembling**\n",
    "    - 14 models (ML models)\n",
    "    - 10 models (Some ML models + Holt-Winters)\n",
    "\n",
    "For most models I will use 2 datasets and compare results, which I receive by submitting predictions to the **Kaggle competition** (**RMSLE** metric is used there).\n",
    "<br><br>\n",
    "For econometric models, I use the **full** dataset which contains sales values for all dates (missing values on December 25 and 0 values on January 1 were filled with linear combinations of lagged sales values) and the **cleaned** dataset which contains sales values, but missing values and values on days when stores weren't working were removed from it.\n",
    "<br><br>\n",
    "As for ML and NN models, I use the **without lags** and the **with lags** datasets. In the first case, missing missing values and values on days when stores weren't working were removed from dataset. The second one is same as the first one, but where lagged sales values with different lags and window were injected additionally.\n",
    "<br><br>\n",
    "Each previously mentioned dataset consists of **1686** smaller datasets containing data, each associated with a unique pair of **store number** and **family**. These smaller datasets will be referred to as **sub datasets** further in this notebook. Models will be trained independently for each such **sub dataset**. This will move existing into time series domain, so appropriate methods and models can be used to solve it.\n",
    "<br><br>\n",
    "Other **96** (54 unique stores * 33 unique families - 1686 = 1782 - 1686 = 96) pairs of **store number** and **family** were determined to not match (such product families weren't sold at according store at least 1 time during last 2 months of the training period) in the 1st part of the project, therefore for such combinations I'll just leave 0 as prediction for every day of the testing period.\n",
    "<br><br>\n",
    "All the data preprocessing took place in the previous part of the project (**EDA**)."
   ]
  },
  {
   "cell_type": "markdown",
   "id": "c73694f3-ab51-43c8-9867-b7d2f7976ef0",
   "metadata": {
    "jp-MarkdownHeadingCollapsed": true
   },
   "source": [
    "# Libraries and data loading"
   ]
  },
  {
   "cell_type": "code",
   "execution_count": null,
   "id": "554730a0-ad8d-4a83-ad57-3d254ab44b07",
   "metadata": {},
   "outputs": [],
   "source": [
    "import os\n",
    "\n",
    "import numpy as np\n",
    "import pandas as pd\n",
    "\n",
    "from sklearn.model_selection import TimeSeriesSplit\n",
    "from sklearn.preprocessing import MinMaxScaler, RobustScaler, StandardScaler\n",
    "from sklearn.model_selection import cross_val_score\n",
    "from sklearn.pipeline import Pipeline\n",
    "from sklearn.metrics import root_mean_squared_log_error as rmsle\n",
    "\n",
    "import optuna"
   ]
  },
  {
   "cell_type": "code",
   "execution_count": null,
   "id": "a2888a0e-fb26-478e-b2d8-b10a38ea951e",
   "metadata": {},
   "outputs": [],
   "source": [
    "unique_sf = pd.read_csv('preprocessed_datasets/unique_sf.csv').values"
   ]
  },
  {
   "cell_type": "code",
   "execution_count": null,
   "id": "14e4bbdb-4123-471f-b562-a11246aa6a5b",
   "metadata": {},
   "outputs": [],
   "source": [
    "test_index = pd.read_csv('initial_datasets/test.csv', index_col=0).index"
   ]
  },
  {
   "cell_type": "code",
   "execution_count": null,
   "id": "1a8d9398-622c-4647-b1f7-a090c13dd450",
   "metadata": {},
   "outputs": [],
   "source": [
    "train_initial_dict = dict()\n",
    "\n",
    "train_base_dict = dict()\n",
    "test_base_dict = dict()\n",
    "\n",
    "train_with_lags_dict = dict()\n",
    "test_with_lags_dict = dict()\n",
    "\n",
    "for s, f in unique_sf:\n",
    "    train_initial_dict[(s, f)] = pd.read_csv(f'preprocessed_datasets/train_initial/s_{s}_f_{f.lower().replace(\"/\", \"_or_\")}_train_initial.csv')['sales']\n",
    "    \n",
    "    train_base_dict[(s, f)] = pd.read_csv(f'preprocessed_datasets/train_base/s_{s}_f_{f.lower().replace(\"/\", \"_or_\")}_train_base.csv', index_col=0, parse_dates=['date'])\n",
    "    test_base_dict[(s, f)] = pd.read_csv(f'preprocessed_datasets/test_base/s_{s}_f_{f.lower().replace(\"/\", \"_or_\")}_test_base.csv', index_col=0, parse_dates=['date'])\n",
    "\n",
    "    train_with_lags_dict[(s, f)] = pd.read_csv(f'preprocessed_datasets/train_with_lags/s_{s}_f_{f.lower().replace(\"/\", \"_or_\")}_train_with_lags.csv', index_col=0, parse_dates=['date'])\n",
    "    test_with_lags_dict[(s, f)] = pd.read_csv(f'preprocessed_datasets/test_with_lags/s_{s}_f_{f.lower().replace(\"/\", \"_or_\")}_test_with_lags.csv', index_col=0, parse_dates=['date'])"
   ]
  },
  {
   "cell_type": "code",
   "execution_count": null,
   "id": "4aa646ce-f695-4974-9235-85618f6a1e45",
   "metadata": {},
   "outputs": [],
   "source": [
    "if not os.path.exists(f'predictions'):\n",
    "    os.makedirs(f'predictions')\n",
    "\n",
    "if not os.path.exists(f'model_hyperparameters'):\n",
    "    os.makedirs(f'model_hyperparameters')"
   ]
  },
  {
   "cell_type": "code",
   "execution_count": null,
   "id": "685b6982-335f-4b5f-9961-3278bc705e78",
   "metadata": {},
   "outputs": [],
   "source": [
    "def make_datasets(dataset, s, f):\n",
    "    if dataset == 'full':\n",
    "        values = train_initial_dict[(s, f)].values\n",
    "        return values\n",
    "    elif dataset == 'cleaned':\n",
    "        values = train_base_dict[(s, f)]['sales'].values\n",
    "        return values\n",
    "    elif dataset == 'without_lags':\n",
    "        train = train_base_dict[(s, f)]\n",
    "        \n",
    "        X_train = train.drop(columns=['date', 'store_nbr', 'family', 'sales'])\n",
    "        y_train = train['sales']\n",
    "\n",
    "        X_test = test_base_dict[(s, f)].drop(columns=['date', 'store_nbr', 'family'])\n",
    "        return X_train, y_train, X_test\n",
    "    elif dataset == 'with_lags':\n",
    "        train = train_with_lags_dict[(s, f)]\n",
    "        \n",
    "        X_train = train.drop(columns=['date', 'store_nbr', 'family', 'sales'])\n",
    "        y_train = train['sales']\n",
    "        \n",
    "        X_test = test_with_lags_dict[(s, f)].drop(columns=['date', 'store_nbr', 'family'])\n",
    "        return X_train, y_train, X_test\n",
    "\n",
    "\n",
    "def save_params(params, model_name, dataset, path):\n",
    "    if not os.path.exists(f'model_hyperparameters/{model_name}_params/{dataset}'):\n",
    "        os.makedirs(f'model_hyperparameters/{model_name}_params/{dataset}')\n",
    "    params.to_csv(path, index_label='parameter', header=['value'])"
   ]
  },
  {
   "cell_type": "markdown",
   "id": "74e05c26-2cd6-4c67-bade-9f55ebc947f6",
   "metadata": {
    "jp-MarkdownHeadingCollapsed": true
   },
   "source": [
    "# Econometric models"
   ]
  },
  {
   "cell_type": "markdown",
   "id": "c746b622-42af-4911-8b27-2ddaf2cf7964",
   "metadata": {
    "jp-MarkdownHeadingCollapsed": true
   },
   "source": [
    "## Simple (single) exponential smoothing"
   ]
  },
  {
   "cell_type": "markdown",
   "id": "e9ead76c-9531-43ec-9e3b-f13fc059b13b",
   "metadata": {},
   "source": [
    "It's the simplest form of exponential smoothing. It assumes that there is no **trend** and no **seasonality** in data. To remove trend I computed consecutive differences and used these values for predicting."
   ]
  },
  {
   "cell_type": "code",
   "execution_count": null,
   "id": "b0493adf-e583-4c3f-8737-ff07abf03f5f",
   "metadata": {},
   "outputs": [],
   "source": [
    "from statsmodels.tsa.holtwinters import SimpleExpSmoothing\n",
    "\n",
    "def exp_smoothing_forecasting(values, diff_values, preds, preds_index, forecasting_period):\n",
    "    model = SimpleExpSmoothing(diff_values)\n",
    "    model = model.fit(optimized=True)\n",
    "\n",
    "    predicted_diff = model.forecast(forecasting_period)\n",
    "    predicted_values = pd.Series(np.insert(predicted_diff, 0, values[-1])).expanding(1).sum()[1:]\n",
    "    \n",
    "    preds[preds_index] = predicted_values    "
   ]
  },
  {
   "cell_type": "markdown",
   "id": "65e18189-afc4-4784-8c8a-4cb5e8d10bea",
   "metadata": {},
   "source": [
    "### Full dataset"
   ]
  },
  {
   "cell_type": "code",
   "execution_count": null,
   "id": "6acf76f7-234e-4355-8351-22db4477fe84",
   "metadata": {},
   "outputs": [],
   "source": [
    "dataset = 'full'\n",
    "\n",
    "preds_exp_smoothing_full = pd.Series(np.zeros(28512))\n",
    "\n",
    "for s, f in unique_sf:\n",
    "    preds_index = test_base_dict[(s, f)].index\n",
    "    \n",
    "    values = make_datasets(dataset, s, f)\n",
    "        \n",
    "    diff_values = values[1:] - values[:-1]\n",
    "    \n",
    "    exp_smoothing_forecasting(values, diff_values, preds_exp_smoothing_full, preds_index, 16)"
   ]
  },
  {
   "cell_type": "code",
   "execution_count": null,
   "id": "e841a367-8ca1-45f6-bada-45223a71587a",
   "metadata": {},
   "outputs": [],
   "source": [
    "preds_exp_smoothing_full.index = test_index\n",
    "preds_exp_smoothing_full.to_csv('predictions/exp_smoothing_full_preds.csv', header=['sales'], index_label=['id'])"
   ]
  },
  {
   "cell_type": "markdown",
   "id": "c20d1451-c63f-48e8-a6c7-7a10e59d561d",
   "metadata": {},
   "source": [
    "**Kaggle RMSLE score: 0.60248**"
   ]
  },
  {
   "cell_type": "markdown",
   "id": "98bfadfd-403b-4beb-b477-916944040314",
   "metadata": {},
   "source": [
    "### Cleaned dataset"
   ]
  },
  {
   "cell_type": "code",
   "execution_count": null,
   "id": "f5051349-6459-4651-b9a3-7a066fd98c33",
   "metadata": {},
   "outputs": [],
   "source": [
    "dataset = 'cleaned'\n",
    "\n",
    "preds_exp_smoothing_cleaned = pd.Series(np.zeros(28512))\n",
    "\n",
    "for s, f in unique_sf:\n",
    "    preds_index = test_base_dict[(s, f)].index\n",
    "    \n",
    "    values = make_datasets(dataset, s, f)\n",
    "        \n",
    "    diff_values = values[1:] - values[:-1]\n",
    "    \n",
    "    exp_smoothing_forecasting(values, diff_values, preds_exp_smoothing_cleaned, preds_index, 16)"
   ]
  },
  {
   "cell_type": "code",
   "execution_count": null,
   "id": "5904ece9-3415-425f-93dd-1ec9156168a4",
   "metadata": {},
   "outputs": [],
   "source": [
    "preds_exp_smoothing_cleaned.index = test_index\n",
    "preds_exp_smoothing_cleaned.to_csv('predictions/exp_smoothing_cleaned_preds.csv', header=['sales'], index_label=['id'])"
   ]
  },
  {
   "cell_type": "markdown",
   "id": "75499779-8ccd-4481-9f54-c480fac3af71",
   "metadata": {},
   "source": [
    "**Kaggle RMSLE score: 0.60494**"
   ]
  },
  {
   "cell_type": "markdown",
   "id": "1baabbe3-f704-4b32-99cb-38f688d3553a",
   "metadata": {
    "jp-MarkdownHeadingCollapsed": true
   },
   "source": [
    "## Holt (Double exponential smoothing)"
   ]
  },
  {
   "cell_type": "markdown",
   "id": "027401b2-691f-49ec-a9ea-4240abce38c8",
   "metadata": {},
   "source": [
    "This model assumes that **trend** exists but there is still no **seasonality** in data."
   ]
  },
  {
   "cell_type": "code",
   "execution_count": null,
   "id": "c76555c5-4671-4fce-8078-5b552a658020",
   "metadata": {},
   "outputs": [],
   "source": [
    "from statsmodels.tsa.holtwinters import Holt\n",
    "\n",
    "def holt_forecasting(values, preds, preds_index, forecasting_period):\n",
    "    model = Holt(values)\n",
    "    model = model.fit(optimized=True)\n",
    "\n",
    "    predicted = model.forecast(forecasting_period)\n",
    "    \n",
    "    preds[preds_index] = predicted"
   ]
  },
  {
   "cell_type": "markdown",
   "id": "cd52746d-a811-4250-9593-ef3241b7a206",
   "metadata": {},
   "source": [
    "### Full dataset"
   ]
  },
  {
   "cell_type": "code",
   "execution_count": null,
   "id": "845f4737-8fb7-4bd1-b5c2-b44a24498179",
   "metadata": {
    "scrolled": true
   },
   "outputs": [],
   "source": [
    "dataset = 'full'\n",
    "\n",
    "preds_holt_full = pd.Series(np.zeros(28512))\n",
    "\n",
    "for s, f in unique_sf:\n",
    "    preds_index = test_base_dict[(s, f)].index\n",
    "\n",
    "    values = make_datasets(dataset, s, f)\n",
    "    \n",
    "    holt_forecasting(values, preds_holt_full, preds_index, 16)"
   ]
  },
  {
   "cell_type": "code",
   "execution_count": null,
   "id": "dfcf11c4-6d1c-4994-8fa2-7e6cc8f22cf3",
   "metadata": {},
   "outputs": [],
   "source": [
    "preds_holt_full.index = test_index\n",
    "preds_holt_full.to_csv('predictions/holt_full_preds.csv', header=['sales'], index_label=['id'])"
   ]
  },
  {
   "cell_type": "markdown",
   "id": "19eef850-8c02-4861-a7f7-033f6edcaae4",
   "metadata": {},
   "source": [
    "**Kaggle RMSLE score: 0.54739**"
   ]
  },
  {
   "cell_type": "markdown",
   "id": "b52d6f8a-5fde-4657-8634-5dce65a2b97e",
   "metadata": {},
   "source": [
    "### Cleaned dataset"
   ]
  },
  {
   "cell_type": "code",
   "execution_count": null,
   "id": "742b2986-f99f-4afa-aeb3-74d88fadcbd2",
   "metadata": {
    "scrolled": true
   },
   "outputs": [],
   "source": [
    "dataset = 'cleaned'\n",
    "\n",
    "preds_holt_cleaned = pd.Series(np.zeros(28512))\n",
    "\n",
    "for s, f in unique_sf:\n",
    "    preds_index = test_base_dict[(s, f)].index\n",
    "\n",
    "    values = make_datasets(dataset, s, f)\n",
    "\n",
    "    holt_forecasting(values, preds_holt_cleaned, preds_index, 16)"
   ]
  },
  {
   "cell_type": "code",
   "execution_count": null,
   "id": "1c793720-84e5-4cd7-bdf2-b99dd67e42a5",
   "metadata": {},
   "outputs": [],
   "source": [
    "preds_holt_cleaned.index = test_index\n",
    "preds_holt_cleaned.to_csv('predictions/holt_cleaned_preds.csv', header=['sales'], index_label=['id'])"
   ]
  },
  {
   "cell_type": "markdown",
   "id": "b34bdb55-6749-4536-b96e-ee135a6ce233",
   "metadata": {},
   "source": [
    "**Kaggle RMSLE score: 0.53329**"
   ]
  },
  {
   "cell_type": "markdown",
   "id": "46649c54-5ff6-4ba0-8d3c-b9a5e91a7c82",
   "metadata": {},
   "source": [
    "**Holt model** is clearly an improvement over **Single Exponential Smoothing**!"
   ]
  },
  {
   "cell_type": "markdown",
   "id": "707e6a8c-2c7d-4a4b-a604-212ccc9cdafa",
   "metadata": {
    "jp-MarkdownHeadingCollapsed": true
   },
   "source": [
    "## Holt-Winters (Triple exponential smoothing)"
   ]
  },
  {
   "cell_type": "markdown",
   "id": "6e689b6c-bf99-40cc-a751-01eb896a37aa",
   "metadata": {},
   "source": [
    "This model assumes that both **trend** and **seasonality** are presented in data.\n",
    "\n",
    "Seasonality is not completely the same and not stable for every dataset. But I'll go with **7** (days) as seasonality period (weekly cycles), because I believe that's the most universal choice."
   ]
  },
  {
   "cell_type": "code",
   "execution_count": null,
   "id": "71d0f014-5229-4148-b4d7-8569a2503865",
   "metadata": {},
   "outputs": [],
   "source": [
    "from statsmodels.tsa.holtwinters import ExponentialSmoothing\n",
    "\n",
    "def holt_winters_forecasting(values, preds, preds_index, forecasting_period):      \n",
    "    model = ExponentialSmoothing(values, trend='add', seasonal='add', seasonal_periods=7)\n",
    "    model = model.fit(optimized=True)\n",
    "\n",
    "    predicted = np.maximum(model.forecast(forecasting_period), 0)\n",
    "    \n",
    "    preds[preds_index] = predicted"
   ]
  },
  {
   "cell_type": "markdown",
   "id": "1325208d-f5f6-4a2f-a2db-ab153eaf5372",
   "metadata": {},
   "source": [
    "### Full dataset"
   ]
  },
  {
   "cell_type": "code",
   "execution_count": null,
   "id": "837c9672-300b-4fa1-8aea-3428e1ae80cf",
   "metadata": {},
   "outputs": [],
   "source": [
    "%%time\n",
    "\n",
    "dataset = 'full'\n",
    "\n",
    "preds_holt_winters_full = pd.Series(np.zeros(28512))\n",
    "\n",
    "for s, f in unique_sf:\n",
    "    preds_index = test_base_dict[(s, f)].index\n",
    "\n",
    "    values = make_datasets(dataset, s, f)\n",
    "    \n",
    "    holt_winters_forecasting(values, preds_holt_winters_full, preds_index, 16)"
   ]
  },
  {
   "cell_type": "code",
   "execution_count": null,
   "id": "3d8a1b3c-59ca-40b4-aa39-af15b359402d",
   "metadata": {},
   "outputs": [],
   "source": [
    "preds_holt_winters_full.index = test_index\n",
    "preds_holt_winters_full.to_csv('predictions/holt_winters_full_preds_2.csv', header=['sales'], index_label=['id'])"
   ]
  },
  {
   "cell_type": "markdown",
   "id": "c0962e20-8c68-4514-bef1-687ba7e05783",
   "metadata": {},
   "source": [
    "**Kaggle RMSLE score: 0.43131**"
   ]
  },
  {
   "cell_type": "markdown",
   "id": "2c2d374d-55b0-4120-963d-1f71e5e0a104",
   "metadata": {},
   "source": [
    "### Cleaned dataset"
   ]
  },
  {
   "cell_type": "code",
   "execution_count": null,
   "id": "1082d7c7-71fe-46b1-afdf-c2171de54801",
   "metadata": {
    "scrolled": true
   },
   "outputs": [],
   "source": [
    "%%time\n",
    "\n",
    "dataset = 'cleaned'\n",
    "\n",
    "preds_holt_winters_cleaned = pd.Series(np.zeros(28512))\n",
    "\n",
    "for s, f in unique_sf:\n",
    "    preds_index = test_base_dict[(s, f)].index\n",
    "    \n",
    "    values = make_datasets(dataset, s, f)\n",
    "    \n",
    "    holt_winters_forecasting(values, preds_holt_winters_cleaned, preds_index, 16)"
   ]
  },
  {
   "cell_type": "code",
   "execution_count": null,
   "id": "ff5d0569-1c9e-4f45-9812-cfdd5314da98",
   "metadata": {},
   "outputs": [],
   "source": [
    "preds_holt_winters_cleaned.index = test_index\n",
    "preds_holt_winters_cleaned.to_csv('predictions/holt_winters_cleaned_preds.csv', header=['sales'], index_label=['id'])"
   ]
  },
  {
   "cell_type": "markdown",
   "id": "27d3eb2f-1737-499a-805b-35e175cd0c65",
   "metadata": {},
   "source": [
    "**Kaggle RMSLE score: 0.43517**"
   ]
  },
  {
   "cell_type": "markdown",
   "id": "959bbeb4-f816-48ed-acba-fcaf447c52c0",
   "metadata": {},
   "source": [
    "**Holt-Winters model** demonstrates really good results and is also a huge improvement over both **Single Exponential Smoothing** and **Holt model**!"
   ]
  },
  {
   "cell_type": "markdown",
   "id": "081773c6-206e-48de-be18-3920f3a0e100",
   "metadata": {
    "jp-MarkdownHeadingCollapsed": true
   },
   "source": [
    "## SARIMA"
   ]
  },
  {
   "cell_type": "markdown",
   "id": "969f697a-f82c-47c9-8292-e02abf0a99b0",
   "metadata": {},
   "source": [
    "**SARIMA model** is an extension of the ARIMA model that includes support for seasonality. It combines autoregression (AR or p), differencing (I or d) and moving average (MA or q), along with seasonal components (P, D, Q)."
   ]
  },
  {
   "cell_type": "code",
   "execution_count": null,
   "id": "6d7d2597-f388-4414-9507-f23d3298226c",
   "metadata": {},
   "outputs": [],
   "source": [
    "from pmdarima.arima import auto_arima\n",
    "from pmdarima.arima import ARIMA\n",
    "\n",
    "\n",
    "def find_arima_params(values, dataset, path):          \n",
    "    model = auto_arima(values, m=7, stepwise=True, error_action='ignore', suppress_warnings=True, method='nm')\n",
    "    print(model.summary())\n",
    "        \n",
    "    params = np.hstack([np.array(model.order), np.array(model.seasonal_order)])\n",
    "    params = pd.Series(params, index=['p', 'd', 'q', 'P', 'D', 'Q', 'm'])\n",
    "        \n",
    "    save_params(params, 'arima', dataset, path)\n",
    "\n",
    "\n",
    "def arima_forecasting(values, path, preds, preds_index, forecasting_period):\n",
    "    params = pd.read_csv(path, index_col=0)\n",
    "    \n",
    "    model = ARIMA(order=params[:3].values, seasonal_order=params[3:].values, method='nm')\n",
    "    model.fit(values)\n",
    "\n",
    "    predicted = np.maximum(model.predict(forecasting_period), 0)\n",
    "\n",
    "    preds[preds_index] = predicted"
   ]
  },
  {
   "cell_type": "markdown",
   "id": "f6162ca3-99c7-467d-9544-cd5a20fc178f",
   "metadata": {},
   "source": [
    "### Full dataset"
   ]
  },
  {
   "cell_type": "code",
   "execution_count": null,
   "id": "d1029b58-88e3-4ef2-ae12-d4f390a0e31c",
   "metadata": {
    "scrolled": true
   },
   "outputs": [],
   "source": [
    "rewrite = False\n",
    "dataset = 'full'\n",
    "\n",
    "for s, f in unique_sf:\n",
    "    path = f'model_hyperparameters/arima_params/{dataset}/arima_s_{s}_f_{f.lower().replace(\"/\", \"_or_\")}.csv'\n",
    "    if not os.path.exists(path) or rewrite:\n",
    "        values = make_datasets(dataset, s, f)\n",
    "        \n",
    "        find_arima_params(values, dataset, path)"
   ]
  },
  {
   "cell_type": "code",
   "execution_count": null,
   "id": "d8a6c0da-4505-42f0-93d4-d0ab6861198f",
   "metadata": {
    "scrolled": true
   },
   "outputs": [],
   "source": [
    "dataset = 'full'\n",
    "\n",
    "preds_arima_full = pd.Series(np.zeros(28512))\n",
    "\n",
    "for s, f in unique_sf:\n",
    "    path = f'model_hyperparameters/arima_params/{dataset}/arima_s_{s}_f_{f.lower().replace(\"/\", \"_or_\")}.csv'\n",
    "    preds_index = test_base_dict[(s, f)].index\n",
    "\n",
    "    values = make_datasets(dataset, s, f)\n",
    "    \n",
    "    arima_forecasting(values, path, preds_arima_full, preds_index, 16)"
   ]
  },
  {
   "cell_type": "code",
   "execution_count": null,
   "id": "450353d5-fd65-4f2b-bcd0-99f5fbd3d823",
   "metadata": {},
   "outputs": [],
   "source": [
    "preds_arima_full.index = test_index\n",
    "preds_arima_full.to_csv('predictions/arima_full_preds.csv', header=['sales'], index_label=['id'])"
   ]
  },
  {
   "cell_type": "markdown",
   "id": "2887cd10-537a-46ed-8dc8-369ed70b57f4",
   "metadata": {},
   "source": [
    "**Kaggle RMSLE score: 0.50377**"
   ]
  },
  {
   "cell_type": "markdown",
   "id": "a66c3011-d26f-42ce-8f9e-b451a12a7066",
   "metadata": {},
   "source": [
    "### Cleaned dataset"
   ]
  },
  {
   "cell_type": "code",
   "execution_count": null,
   "id": "e8853420-9e50-44ec-9d56-c7843107860e",
   "metadata": {
    "scrolled": true
   },
   "outputs": [],
   "source": [
    "%%time\n",
    "\n",
    "rewrite = False\n",
    "dataset = 'cleaned'\n",
    "\n",
    "for s, f in unique_sf:\n",
    "    path = f'model_hyperparameters/arima_params/{dataset}/arima_s_{s}_f_{f.lower().replace(\"/\", \"_or_\")}.csv'\n",
    "    if not os.path.exists(path) or rewrite:\n",
    "        values = make_datasets(dataset, s, f)\n",
    "        \n",
    "        find_arima_params(values, dataset, path)"
   ]
  },
  {
   "cell_type": "code",
   "execution_count": null,
   "id": "3f742aab-cf6f-4879-accb-94bc515b1f2e",
   "metadata": {
    "scrolled": true
   },
   "outputs": [],
   "source": [
    "dataset = 'cleaned'\n",
    "\n",
    "preds_arima_cleaned = pd.Series(np.zeros(28512))\n",
    "\n",
    "for s, f in unique_sf:\n",
    "    path = f'model_hyperparameters/arima_params/{dataset}/arima_s_{s}_f_{f.lower().replace(\"/\", \"_or_\")}.csv'\n",
    "    preds_index = test_base_dict[(s, f)].index\n",
    "\n",
    "    values = make_datasets(dataset, s, f)\n",
    "    \n",
    "    arima_forecasting(values, path, preds_arima_cleaned, preds_index, 16)"
   ]
  },
  {
   "cell_type": "code",
   "execution_count": null,
   "id": "86715c77-5151-4740-a3dc-9399bdd0f563",
   "metadata": {},
   "outputs": [],
   "source": [
    "preds_arima_cleaned.index = test_index\n",
    "preds_arima_cleaned.to_csv('predictions/arima_cleaned_preds.csv', header=['sales'], index_label=['id'])"
   ]
  },
  {
   "cell_type": "markdown",
   "id": "29175a62-d208-412e-a1cc-31880868229a",
   "metadata": {},
   "source": [
    "**Kaggle RMSLE score: 0.52171**"
   ]
  },
  {
   "cell_type": "markdown",
   "id": "f9965b10-fcb8-4fa3-aa7b-981eb8b65bad",
   "metadata": {
    "jp-MarkdownHeadingCollapsed": true
   },
   "source": [
    "# Machine Learning models"
   ]
  },
  {
   "cell_type": "markdown",
   "id": "bc96f992-1785-42a1-b653-edf3bb447aa5",
   "metadata": {},
   "source": [
    "With time series data it's crucial to use **Time Series Cross-Validation scheme** (*TimeSeriesSplit* and not *KFold*) for optimization of hyperparameters. More info **[here](https://medium.com/@soumyachess1496/cross-validation-in-time-series-566ae4981ce4)**."
   ]
  },
  {
   "cell_type": "markdown",
   "id": "65ec3a2b-2d35-438f-8539-69a7409dcf05",
   "metadata": {
    "jp-MarkdownHeadingCollapsed": true
   },
   "source": [
    "## Feature importances"
   ]
  },
  {
   "cell_type": "markdown",
   "id": "2120db08-1b20-472a-b19a-6856abf03405",
   "metadata": {},
   "source": [
    "Let's check what features are more important and what are less. I'll use built-in **feature_importances_** atribute in sklearn's **Random Forest model**."
   ]
  },
  {
   "cell_type": "code",
   "execution_count": null,
   "id": "c4a3b60e-3122-4105-82f6-44ac0cf1db13",
   "metadata": {},
   "outputs": [],
   "source": [
    "from sklearn.ensemble import RandomForestRegressor\n",
    "\n",
    "def find_feature_importances(s, f):\n",
    "    train = train_with_lags_dict[(s, f)]\n",
    "    \n",
    "    X_train = train.drop(columns=['date', 'store_nbr', 'family', 'sales'])\n",
    "    y_train = train['sales']\n",
    "    \n",
    "    model = RandomForestRegressor(n_estimators=50, random_state=92)\n",
    "    model = model.fit(X_train, y_train)\n",
    "    \n",
    "    feature_importances.loc[X_train.columns, 'importances_sum'] += model.feature_importances_\n",
    "    feature_importances.loc[X_train.columns, 'count'] += 1"
   ]
  },
  {
   "cell_type": "code",
   "execution_count": null,
   "id": "c8c7dd01-3f3a-41ce-8360-981d22cd852a",
   "metadata": {},
   "outputs": [],
   "source": [
    "# cols = train_with_lags_dict[(1, 'Automotive')].drop(columns=['date', 'store_nbr', 'family', 'sales']).columns\n",
    "\n",
    "# feature_importances = pd.DataFrame(np.zeros(shape=(len(cols), 2)), index=cols, columns=['importances_sum', 'count'])\n",
    "\n",
    "# for s, f in unique_sf:\n",
    "#     find_feature_importances(s, f)"
   ]
  },
  {
   "cell_type": "code",
   "execution_count": null,
   "id": "19455d1d-4aee-45f0-b08d-4027c75e43e0",
   "metadata": {},
   "outputs": [],
   "source": [
    "# feature_importances['importance'] = (feature_importances['importances_sum'] / feature_importances['count'])\n",
    "# feature_importances['importance'].sort_values(ascending=False).to_csv('preprocessed_datasets/feature_importances.csv')"
   ]
  },
  {
   "cell_type": "code",
   "execution_count": null,
   "id": "a1dda6ec-7b9e-4ad8-95bf-4779a9f8e67c",
   "metadata": {},
   "outputs": [],
   "source": [
    "feature_importances = pd.read_csv('preprocessed_datasets/feature_importances.csv', index_col=0)\n",
    "feature_importances"
   ]
  },
  {
   "cell_type": "markdown",
   "id": "c4e06729-f585-4e06-bc12-ee71b86a655b",
   "metadata": {},
   "source": [
    "As you can see, **time related**, **lag**, **onpromotion** and **oil_price** features are pretty important. Meanwhile I can't say so for **holiday** features, as any of these are ranked lower than any of previously mentioned."
   ]
  },
  {
   "cell_type": "markdown",
   "id": "22cbaaaa-c030-4515-a87b-97c1fa3837e7",
   "metadata": {
    "jp-MarkdownHeadingCollapsed": true
   },
   "source": [
    "## Ridge regression"
   ]
  },
  {
   "attachments": {},
   "cell_type": "markdown",
   "id": "03e1cdab-f862-4906-bc6a-3e3f2265aaec",
   "metadata": {},
   "source": [
    "**Ridge regression** is a type of **linear regression** that adds a penalty (**L2 regularization**) to the size of the coefficients to prevent overfitting.\n",
    "\n",
    "<div style=\"text-align: center;\">\n",
    "    <img src=\"https://images.deepai.org/glossary-terms/d154adc4d9cd44849c10592a521f379d/ridge.png\" \n",
    "        alt=\"Ridge\" style=\"width: 500px; height: auto;\">\n",
    "</div>\n",
    "\n",
    "Image source: https://deepai.org/"
   ]
  },
  {
   "cell_type": "code",
   "execution_count": null,
   "id": "2a77263c-76e2-4220-8f3f-4f10dd9baef8",
   "metadata": {},
   "outputs": [],
   "source": [
    "from sklearn.linear_model import Ridge\n",
    "\n",
    "def ridge_objective(trial):\n",
    "    time_series_cv = TimeSeriesSplit(n_splits=3)\n",
    "    params = {\n",
    "        'alpha': trial.suggest_float('alpha', 1e-6, 1e5, log=True) \n",
    "    }\n",
    "\n",
    "    scaler = trial.suggest_categorical('scaler', ['minmax', 'robust', 'standard'])\n",
    "\n",
    "    if scaler == 'minmax':\n",
    "        scaler = MinMaxScaler()\n",
    "    elif scaler == 'robust':\n",
    "        scaler = RobustScaler()\n",
    "    else:\n",
    "        scaler = StandardScaler()\n",
    "\n",
    "    model = Pipeline([\n",
    "        ('scaler', scaler),\n",
    "        ('ridge', Ridge(**params))\n",
    "    ])\n",
    "    \n",
    "    score = cross_val_score(model, X_train, y_train, cv=time_series_cv, scoring='neg_root_mean_squared_error', n_jobs=8).mean()\n",
    "    return score\n",
    "\n",
    "\n",
    "def ridge_forecasting(X_train, y_train, X_test, path, preds, preds_index):\n",
    "    params = pd.read_csv(path, index_col=0)\n",
    "    params = params.iloc[:, 0].to_dict()\n",
    "\n",
    "    scaler = params['scaler']\n",
    "\n",
    "    if scaler == 'robust':\n",
    "        scaler = RobustScaler()\n",
    "    elif scaler == 'minmax':\n",
    "        scaler = MinMaxScaler()\n",
    "    else:\n",
    "        scaler = StandardScaler()\n",
    "        \n",
    "    del params['scaler']\n",
    "\n",
    "    for i in params:\n",
    "        params[i] = float(params[i])\n",
    "\n",
    "\n",
    "    model = Pipeline([\n",
    "        ('scaler', scaler),\n",
    "        ('ridge', Ridge(**params))\n",
    "    ])\n",
    "\n",
    "    model.fit(X_train, y_train)\n",
    "\n",
    "    predicted = np.maximum(model.predict(X_test), 0)\n",
    "\n",
    "    preds[preds_index] = predicted"
   ]
  },
  {
   "cell_type": "markdown",
   "id": "3f2a9b1f-02a5-4bbf-96a6-4f50924b0d5e",
   "metadata": {},
   "source": [
    "### Dataset without lags"
   ]
  },
  {
   "cell_type": "code",
   "execution_count": null,
   "id": "093705a7-1cf1-49b3-abf4-8ade5b72f4c1",
   "metadata": {},
   "outputs": [],
   "source": [
    "rewrite = False\n",
    "dataset = 'without_lags'\n",
    "\n",
    "optuna.logging.set_verbosity(optuna.logging.WARNING)\n",
    "\n",
    "for s, f in unique_sf:\n",
    "    path = f'model_hyperparameters/ridge_params/{dataset}/ridge_s_{s}_f_{f.lower().replace(\"/\", \"_or_\")}.csv'\n",
    "    if not os.path.exists(path) or rewrite:\n",
    "        X_train, y_train, _ = make_datasets(dataset, s, f)\n",
    "        \n",
    "        study = optuna.create_study(direction='maximize')\n",
    "        study.optimize(ridge_objective, n_trials=300, n_jobs=8)\n",
    "\n",
    "        best_params = pd.Series(study.best_params)\n",
    "        print(best_params, study.best_value)\n",
    "\n",
    "        save_params(params, 'ridge', dataset, path)"
   ]
  },
  {
   "cell_type": "code",
   "execution_count": null,
   "id": "bda78ffc-9691-4a38-8622-bfe36d69c374",
   "metadata": {
    "scrolled": true
   },
   "outputs": [],
   "source": [
    "dataset = 'without_lags'\n",
    "\n",
    "preds_ridge_without_lags = pd.Series(np.zeros(28512))\n",
    "\n",
    "for s, f in unique_sf:\n",
    "    path = f'model_hyperparameters/ridge_params/{dataset}/ridge_s_{s}_f_{f.lower().replace(\"/\", \"_or_\")}.csv'\n",
    "\n",
    "    X_train, y_train, X_test = make_datasets(dataset, s, f)\n",
    "    \n",
    "    preds_index = test_base_dict[(s, f)].index\n",
    "    \n",
    "    ridge_forecasting(X_train, y_train, X_test, path, preds_ridge_without_lags, preds_index)"
   ]
  },
  {
   "cell_type": "code",
   "execution_count": null,
   "id": "44e4ce80-ee59-4e19-828a-5b108fdbdd32",
   "metadata": {},
   "outputs": [],
   "source": [
    "preds_ridge_without_lags.index = test_index\n",
    "preds_ridge_without_lags.to_csv('predictions/ridge_without_lags_preds.csv', header=['sales'], index_label=['id'])"
   ]
  },
  {
   "cell_type": "markdown",
   "id": "93dc251b-c8f0-4d8d-ab5a-de408581e60c",
   "metadata": {},
   "source": [
    "**Kaggle RMSLE score: 0.48332**"
   ]
  },
  {
   "cell_type": "markdown",
   "id": "29bd6dbc-3048-402d-a81c-0798119df821",
   "metadata": {},
   "source": [
    "### Dataset with lags"
   ]
  },
  {
   "cell_type": "code",
   "execution_count": null,
   "id": "cdfc65fa-c454-4d59-b40b-a93f1b071800",
   "metadata": {},
   "outputs": [],
   "source": [
    "rewrite = False\n",
    "dataset = 'with_lags'\n",
    "\n",
    "optuna.logging.set_verbosity(optuna.logging.WARNING)\n",
    "\n",
    "for s, f in unique_sf:\n",
    "    path = f'model_hyperparameters/ridge_params/{dataset}/ridge_s_{s}_f_{f.lower().replace(\"/\", \"_or_\")}.csv'\n",
    "    if not os.path.exists(path) or rewrite:\n",
    "        X_train, y_train, _ = make_datasets(dataset, s, f)\n",
    "        \n",
    "        study = optuna.create_study(direction='maximize')\n",
    "        study.optimize(ridge_objective, n_trials=400, n_jobs=8)\n",
    "\n",
    "        best_params = pd.Series(study.best_params)\n",
    "        print(best_params, study.best_value)\n",
    "\n",
    "        save_params(params, 'ridge', dataset, path)"
   ]
  },
  {
   "cell_type": "code",
   "execution_count": null,
   "id": "dfbb8990-0373-46f4-a80a-bba07a9100f5",
   "metadata": {},
   "outputs": [],
   "source": [
    "dataset = 'with_lags'\n",
    "\n",
    "preds_ridge_with_lags = pd.Series(np.zeros(28512))\n",
    "\n",
    "for s, f in unique_sf:\n",
    "    path = f'model_hyperparameters/ridge_params/{dataset}/ridge_s_{s}_f_{f.lower().replace(\"/\", \"_or_\")}.csv'\n",
    "\n",
    "    X_train, y_train, X_test = make_datasets(dataset, s, f)\n",
    "    \n",
    "    preds_index = test_base_dict[(s, f)].index\n",
    "    \n",
    "    ridge_forecasting(X_train, y_train, X_test, path, preds_ridge_with_lags, preds_index)"
   ]
  },
  {
   "cell_type": "code",
   "execution_count": null,
   "id": "cce1f0bc-c5d8-4daa-a261-65f1f48147f9",
   "metadata": {},
   "outputs": [],
   "source": [
    "preds_ridge_with_lags.index = test_index\n",
    "preds_ridge_with_lags.to_csv('predictions/ridge_with_lags_preds.csv', header=['sales'], index_label=['id'])"
   ]
  },
  {
   "cell_type": "markdown",
   "id": "d6e9537f-21a7-4cfc-9f17-d1056a09c6a0",
   "metadata": {},
   "source": [
    "**Kaggle RMSLE score: 0.45105**"
   ]
  },
  {
   "cell_type": "markdown",
   "id": "0baed547-ed98-4035-aedc-e0dcd623ae1e",
   "metadata": {
    "jp-MarkdownHeadingCollapsed": true
   },
   "source": [
    "## Lasso regression"
   ]
  },
  {
   "attachments": {},
   "cell_type": "markdown",
   "id": "a8a29504-9750-4fb6-a6f2-fd5d57ce67c1",
   "metadata": {},
   "source": [
    "**Lasso regression** is a type of **linear regression** that adds a penalty (**L1 regularization**) to the size of the coefficients to prevent overfitting.\n",
    "\n",
    "<div style=\"text-align: center;\">\n",
    "    <img src=\"https://cdn.corporatefinanceinstitute.com/assets/lasso.png\" \n",
    "        alt=\"Lasso\" style=\"width: 500px; height: auto;\">\n",
    "</div>\n",
    "\n",
    "Image source: https://corporatefinanceinstitute.com"
   ]
  },
  {
   "cell_type": "code",
   "execution_count": null,
   "id": "3d771c5a-b612-458b-af1b-497bb63c6346",
   "metadata": {},
   "outputs": [],
   "source": [
    "from sklearn.linear_model import Lasso\n",
    "\n",
    "def lasso_objective(trial):\n",
    "    time_series_cv = TimeSeriesSplit(n_splits=3)\n",
    "    params = {\n",
    "        'alpha': trial.suggest_float('alpha', 1e-6, 1e5, log=True) \n",
    "    }\n",
    "\n",
    "    scaler = trial.suggest_categorical('scaler', ['minmax', 'robust', 'standard'])\n",
    "\n",
    "    if scaler == 'minmax':\n",
    "        scaler = MinMaxScaler()\n",
    "    elif scaler == 'robust':\n",
    "        scaler = RobustScaler()\n",
    "    else:\n",
    "        scaler = StandardScaler()\n",
    "    \n",
    "    model = Pipeline([\n",
    "        ('scaler', scaler),\n",
    "        ('lasso', Lasso(**params))\n",
    "    ])\n",
    "    \n",
    "    score = cross_val_score(model, X_train, y_train, cv=time_series_cv, scoring='neg_root_mean_squared_error', n_jobs=8).mean()\n",
    "    return score\n",
    "\n",
    "\n",
    "def lasso_forecasting(X_train, y_train, X_test, path, preds, preds_index):\n",
    "    params = pd.read_csv(path, index_col=0)\n",
    "    params = params.iloc[:, 0].to_dict()\n",
    "\n",
    "    scaler = params['scaler']\n",
    "\n",
    "    if scaler == 'robust':\n",
    "        scaler = RobustScaler()\n",
    "    elif scaler == 'minmax':\n",
    "        scaler = MinMaxScaler()\n",
    "    else:\n",
    "        scaler = StandardScaler()\n",
    "        \n",
    "    del params['scaler']\n",
    "    \n",
    "    for i in params:\n",
    "        params[i] = float(params[i])\n",
    "    \n",
    "    model = Pipeline([\n",
    "        ('scaler', scaler),\n",
    "        ('lasso', Lasso(**params))\n",
    "    ])\n",
    "    \n",
    "    model.fit(X_train, y_train)\n",
    "\n",
    "    predicted = np.maximum(model.predict(X_test), 0)\n",
    "\n",
    "    preds[preds_index] = predicted"
   ]
  },
  {
   "cell_type": "markdown",
   "id": "02798884-2bea-4f64-bb08-1fe34801b1c5",
   "metadata": {},
   "source": [
    "### Dataset without lags"
   ]
  },
  {
   "cell_type": "code",
   "execution_count": null,
   "id": "f4844c18-d4c1-4544-8ed7-37e18c0a7a2e",
   "metadata": {},
   "outputs": [],
   "source": [
    "rewrite = False\n",
    "dataset = 'without_lags'\n",
    "\n",
    "optuna.logging.set_verbosity(optuna.logging.WARNING)\n",
    "\n",
    "for s, f in unique_sf:\n",
    "    path = f'model_hyperparameters/lasso_params/{dataset}/lasso_s_{s}_f_{f.lower().replace(\"/\", \"_or_\")}.csv'\n",
    "    if not os.path.exists(path) or rewrite:\n",
    "        X_train, y_train, _ = make_datasets(dataset, s, f)\n",
    "        \n",
    "        study = optuna.create_study(direction='maximize')\n",
    "        study.optimize(lasso_objective, n_trials=250, n_jobs=8)\n",
    "\n",
    "        best_params = pd.Series(study.best_params)\n",
    "        print(best_params, study.best_value)\n",
    "\n",
    "        save_params(params, 'lasso', dataset, path)"
   ]
  },
  {
   "cell_type": "code",
   "execution_count": null,
   "id": "eec0a1c3-4e5a-43bf-b3d5-08bcfc666114",
   "metadata": {
    "scrolled": true
   },
   "outputs": [],
   "source": [
    "dataset = 'without_lags'\n",
    "\n",
    "preds_lasso_without_lags = pd.Series(np.zeros(28512))\n",
    "\n",
    "for s, f in unique_sf:\n",
    "    path = f'model_hyperparameters/lasso_params/{dataset}/lasso_s_{s}_f_{f.lower().replace(\"/\", \"_or_\")}.csv'\n",
    "\n",
    "    X_train, y_train, X_test = make_datasets(dataset, s, f)\n",
    "    \n",
    "    preds_index = test_base_dict[(s, f)].index\n",
    "\n",
    "    lasso_forecasting(X_train, y_train, X_test, path, preds_lasso_without_lags, preds_index)"
   ]
  },
  {
   "cell_type": "code",
   "execution_count": null,
   "id": "c6e9a1be-2b71-4c1c-9f4e-4907199257bc",
   "metadata": {},
   "outputs": [],
   "source": [
    "preds_lasso_without_lags.index = test_index\n",
    "preds_lasso_without_lags.to_csv('predictions/lasso_without_lags_preds.csv', header=['sales'], index_label=['id'])"
   ]
  },
  {
   "cell_type": "markdown",
   "id": "0c5bb388-bda0-4c60-909b-baee0a7a86f4",
   "metadata": {},
   "source": [
    "**Kaggle RMSLE score: 0.48306**"
   ]
  },
  {
   "cell_type": "markdown",
   "id": "94b88a29-5dd3-4f83-a717-1cdc1c95b53c",
   "metadata": {},
   "source": [
    "### Dataset with lags"
   ]
  },
  {
   "cell_type": "code",
   "execution_count": null,
   "id": "a8ccafeb-0cb3-4a6c-8723-745f1dfd2943",
   "metadata": {},
   "outputs": [],
   "source": [
    "rewrite = False\n",
    "dataset = 'with_lags'\n",
    "\n",
    "optuna.logging.set_verbosity(optuna.logging.WARNING)\n",
    "\n",
    "for s, f in unique_sf:\n",
    "    path = f'model_hyperparameters/lasso_params/{dataset}/lasso_s_{s}_f_{f.lower().replace(\"/\", \"_or_\")}.csv'\n",
    "    if not os.path.exists(path) or rewrite:\n",
    "        X_train, y_train, _ = make_datasets(dataset, s, f)\n",
    "        \n",
    "        study = optuna.create_study(direction='maximize')\n",
    "        study.optimize(lasso_objective, n_trials=200, n_jobs=8)\n",
    "\n",
    "        best_params = pd.Series(study.best_params)\n",
    "        print(best_params, study.best_value)\n",
    "\n",
    "        save_params(params, 'lasso', dataset, path)"
   ]
  },
  {
   "cell_type": "code",
   "execution_count": null,
   "id": "73b65fa7-1e6e-4c68-8845-1ebe3ccfe827",
   "metadata": {
    "scrolled": true
   },
   "outputs": [],
   "source": [
    "dataset = 'with_lags'\n",
    "\n",
    "preds_lasso_with_lags = pd.Series(np.zeros(28512))\n",
    "\n",
    "for s, f in unique_sf:\n",
    "    path = f'model_hyperparameters/lasso_params/{dataset}/lasso_s_{s}_f_{f.lower().replace(\"/\", \"_or_\")}.csv'\n",
    "\n",
    "    X_train, y_train, X_test = make_datasets(dataset, s, f)\n",
    "    \n",
    "    preds_index = test_base_dict[(s, f)].index\n",
    "\n",
    "    lasso_forecasting(X_train, y_train, X_test, path, preds_lasso_with_lags, preds_index)"
   ]
  },
  {
   "cell_type": "code",
   "execution_count": null,
   "id": "4c031432-b600-451e-801c-3102be049abb",
   "metadata": {},
   "outputs": [],
   "source": [
    "preds_lasso_with_lags.index = test_index\n",
    "preds_lasso_with_lags.to_csv('predictions/lasso_with_lags_preds.csv', header=['sales'], index_label=['id'])"
   ]
  },
  {
   "cell_type": "markdown",
   "id": "958db4b8-15b2-4dbc-b129-2e5d61244c33",
   "metadata": {},
   "source": [
    "**Kaggle RMSLE score: 0.46490**"
   ]
  },
  {
   "cell_type": "markdown",
   "id": "f757d7da-e896-45cd-8df8-5a995aef5a8d",
   "metadata": {
    "jp-MarkdownHeadingCollapsed": true
   },
   "source": [
    "## Elastic Net"
   ]
  },
  {
   "attachments": {},
   "cell_type": "markdown",
   "id": "4973565e-109c-417b-9568-1098ab35c4c9",
   "metadata": {},
   "source": [
    "**Elastic Net regression** is a type of **linear regression** that adds a pair penalties (**L1 + L2 regularization**) to the size of the coefficients to prevent overfitting.\n",
    "\n",
    "<div style=\"text-align: center;\">\n",
    "    <img src=\"https://drek4537l1klr.cloudfront.net/rhys/v-4/Figures/CH09_FIG_9_MLR.png\" \n",
    "        alt=\"Elastic Net\" style=\"width: 500px; height: auto;\">\n",
    "</div>\n",
    "\n",
    "Image source: https://analyticsindiamag.com/"
   ]
  },
  {
   "cell_type": "code",
   "execution_count": null,
   "id": "1ae3db66-b77c-4b43-840f-76d05a3d5e45",
   "metadata": {},
   "outputs": [],
   "source": [
    "from sklearn.linear_model import ElasticNet\n",
    "\n",
    "def elastic_net_objective(trial):\n",
    "    time_series_cv = TimeSeriesSplit(n_splits=3)\n",
    "    params = {\n",
    "        'alpha': trial.suggest_float('alpha', 1e-6, 1e5, log=True),\n",
    "        'l1_ratio': trial.suggest_float('l1_ratio', 0, 1)\n",
    "    }\n",
    "\n",
    "    scaler = trial.suggest_categorical('scaler', ['minmax', 'robust', 'standard'])\n",
    "\n",
    "    if scaler == 'minmax':\n",
    "        scaler = MinMaxScaler()\n",
    "    elif scaler == 'robust':\n",
    "        scaler = RobustScaler()\n",
    "    else:\n",
    "        scaler = StandardScaler()\n",
    "    \n",
    "    model = Pipeline([\n",
    "        ('scaler', scaler),\n",
    "        ('elastic_net', ElasticNet(**params))\n",
    "    ])\n",
    "    \n",
    "    score = cross_val_score(model, X_train, y_train, cv=time_series_cv, scoring='neg_root_mean_squared_error', n_jobs=8).mean()\n",
    "    return score\n",
    "\n",
    "\n",
    "def elastic_net_forecasting(X_train, y_train, X_test, path, preds, preds_index):\n",
    "    params = pd.read_csv(path, index_col=0)\n",
    "    params = params.iloc[:, 0].to_dict()\n",
    "\n",
    "    scaler = params['scaler']\n",
    "\n",
    "    if scaler == 'robust':\n",
    "        scaler = RobustScaler()\n",
    "    elif scaler == 'minmax':\n",
    "        scaler = MinMaxScaler()\n",
    "    else:\n",
    "        scaler = StandardScaler()\n",
    "        \n",
    "    del params['scaler']\n",
    "    \n",
    "    for i in params:\n",
    "        params[i] = float(params[i])\n",
    "  \n",
    "    model = Pipeline([\n",
    "        ('scaler', scaler),\n",
    "        ('elastic_net', ElasticNet(**params))\n",
    "    ])\n",
    "    model.fit(X_train, y_train)\n",
    "\n",
    "    predicted = np.maximum(model.predict(X_test), 0)\n",
    "\n",
    "    preds[preds_index] = predicted"
   ]
  },
  {
   "cell_type": "markdown",
   "id": "d1412272-9334-465f-b872-6e0f4a092bd9",
   "metadata": {},
   "source": [
    "### Dataset without lags"
   ]
  },
  {
   "cell_type": "code",
   "execution_count": null,
   "id": "f615bc4c-84da-478e-9e2c-73b6e8e2836f",
   "metadata": {
    "scrolled": true
   },
   "outputs": [],
   "source": [
    "rewrite = False\n",
    "dataset = 'without_lags'\n",
    "\n",
    "optuna.logging.set_verbosity(optuna.logging.WARNING)\n",
    "\n",
    "for s, f in unique_sf:\n",
    "    path = f'model_hyperparameters/elastic_net_params/{dataset}/elastic_net_s_{s}_f_{f.lower().replace(\"/\", \"_or_\")}.csv'\n",
    "    if not os.path.exists(path) or rewrite:\n",
    "        X_train, y_train, _ = make_datasets(dataset, s, f)\n",
    "        \n",
    "        study = optuna.create_study(direction='maximize')\n",
    "        study.optimize(elastic_net_objective, n_trials=200, n_jobs=8)\n",
    "\n",
    "        best_params = pd.Series(study.best_params)\n",
    "        print(best_params, study.best_value)\n",
    "\n",
    "        save_params(params, 'elastic_net', dataset, path)"
   ]
  },
  {
   "cell_type": "code",
   "execution_count": null,
   "id": "d94594ff-2314-45b4-85a7-19c91311cbaa",
   "metadata": {},
   "outputs": [],
   "source": [
    "%%time\n",
    "\n",
    "dataset = 'without_lags'\n",
    "\n",
    "preds_elastic_net_without_lags = pd.Series(np.zeros(28512))\n",
    "\n",
    "for s, f in unique_sf:\n",
    "    path = f'model_hyperparameters/elastic_net_params/{dataset}/elastic_net_s_{s}_f_{f.lower().replace(\"/\", \"_or_\")}.csv'\n",
    "\n",
    "    X_train, y_train, X_test = make_datasets(dataset, s, f)\n",
    "    \n",
    "    preds_index = test_base_dict[(s, f)].index\n",
    "\n",
    "    elastic_net_forecasting(X_train, y_train, X_test, path, preds_elastic_net_without_lags, preds_index)"
   ]
  },
  {
   "cell_type": "code",
   "execution_count": null,
   "id": "e3cae41c-53a2-4348-9572-2e257738cbce",
   "metadata": {},
   "outputs": [],
   "source": [
    "preds_elastic_net_without_lags.index = test_index\n",
    "preds_elastic_net_without_lags.to_csv('predictions/elastic_net_without_lags_preds.csv', header=['sales'], index_label=['id'])"
   ]
  },
  {
   "cell_type": "markdown",
   "id": "20ad38ab-351c-47f5-8511-09cc11b4a608",
   "metadata": {},
   "source": [
    "**Kaggle RMSLE score: 0.48005**"
   ]
  },
  {
   "cell_type": "markdown",
   "id": "9fe2f8f4-bab5-48e5-9d29-4d30dbf7997e",
   "metadata": {},
   "source": [
    "### Dataset with lags"
   ]
  },
  {
   "cell_type": "code",
   "execution_count": null,
   "id": "930cdeba-3ffd-4ee9-a637-c1932023c220",
   "metadata": {},
   "outputs": [],
   "source": [
    "rewrite = False\n",
    "dataset = 'with_lags'\n",
    "\n",
    "optuna.logging.set_verbosity(optuna.logging.WARNING)\n",
    "\n",
    "for s, f in unique_sf:\n",
    "    path = f'model_hyperparameters/elastic_net_params/{dataset}/elastic_net_s_{s}_f_{f.lower().replace(\"/\", \"_or_\")}.csv'\n",
    "    if not os.path.exists(path) or rewrite:\n",
    "        X_train, y_train, _ = make_datasets(dataset, s, f)\n",
    "        \n",
    "        study = optuna.create_study(direction='maximize')\n",
    "        study.optimize(elastic_net_objective, n_trials=200, n_jobs=8)\n",
    "\n",
    "        best_params = pd.Series(study.best_params)\n",
    "        print(best_params, study.best_value)\n",
    "\n",
    "        save_params(params, 'elastic_net', dataset, path)"
   ]
  },
  {
   "cell_type": "code",
   "execution_count": null,
   "id": "25ae0a16-33e6-4cd1-8cbd-c66609eb57bc",
   "metadata": {
    "scrolled": true
   },
   "outputs": [],
   "source": [
    "%%time\n",
    "\n",
    "dataset = 'with_lags'\n",
    "\n",
    "preds_elastic_net_with_lags = pd.Series(np.zeros(28512))\n",
    "\n",
    "for s, f in unique_sf:\n",
    "    path = f'model_hyperparameters/elastic_net_params/{dataset}/elastic_net_s_{s}_f_{f.lower().replace(\"/\", \"_or_\")}.csv'\n",
    "\n",
    "    X_train, y_train, X_test = make_datasets(dataset, s, f)\n",
    "    \n",
    "    preds_index = test_base_dict[(s, f)].index\n",
    "\n",
    "    elastic_net_forecasting(X_train, y_train, X_test, path, preds_elastic_net_with_lags, preds_index)"
   ]
  },
  {
   "cell_type": "code",
   "execution_count": null,
   "id": "7db59526-ffd1-4d45-b65b-4c662740186d",
   "metadata": {},
   "outputs": [],
   "source": [
    "preds_elastic_net_with_lags.index = test_index\n",
    "preds_elastic_net_with_lags.to_csv('predictions/elastic_net_with_lags_preds.csv', header=['sales'], index_label=['id'])"
   ]
  },
  {
   "cell_type": "markdown",
   "id": "cac56f92-bbd2-46fd-9a5a-77a114458985",
   "metadata": {},
   "source": [
    "**Kaggle RMSLE score: 0.46420**"
   ]
  },
  {
   "cell_type": "markdown",
   "id": "ee5bbf72-1c87-422c-b225-93b38112ca81",
   "metadata": {},
   "source": [
    "All 3 linear models provide similar results, but **Ridge** turns out to be the best for this data.\n",
    "\n",
    "Dataset **with lags** tends to perform better with linear models."
   ]
  },
  {
   "cell_type": "markdown",
   "id": "192580d1-df48-4f1d-a97b-840db614ec39",
   "metadata": {
    "jp-MarkdownHeadingCollapsed": true
   },
   "source": [
    "## Random Forest"
   ]
  },
  {
   "cell_type": "markdown",
   "id": "09ff1103-e394-4169-9a15-ab8f95c819ab",
   "metadata": {},
   "source": [
    "**Random Forest** is an *ensemble* learning method that uses multiple decision trees to predict continuous values (if it is regression task). It averages the predictions from many trees to improve accuracy and reduce overfitting.\n",
    "\n",
    "<div style=\"text-align: center;\">\n",
    "    <img src=\"https://miro.medium.com/v2/resize:fit:1010/1*R3oJiyaQwyLUyLZL-scDpw.png\" \n",
    "        alt=\"Random Forest\" style=\"width: 500px; height: auto;\">\n",
    "</div>\n",
    "\n",
    "Image source: https://medium.com/@denizgunay/random-forest-af5bde5d7e1e"
   ]
  },
  {
   "cell_type": "code",
   "execution_count": null,
   "id": "21f11b6f-06e9-42c3-b9e9-0ff721e30448",
   "metadata": {},
   "outputs": [],
   "source": [
    "from sklearn.ensemble import RandomForestRegressor\n",
    "\n",
    "def rf_objective(trial):\n",
    "    time_series_cv = TimeSeriesSplit(n_splits=3)\n",
    "    params = {\n",
    "        'min_samples_leaf': trial.suggest_int('min_samples_leaf', 1, 150),\n",
    "        'min_samples_split': trial.suggest_int('min_samples_split', 2, 151),\n",
    "        'max_features': trial.suggest_float('max_features', 0.2, 1.0),\n",
    "        'max_depth': trial.suggest_int('max_depth', 2, 25)\n",
    "    }\n",
    "\n",
    "    model = RandomForestRegressor(**params, n_estimators=100, random_state=92, n_jobs=5)\n",
    "        \n",
    "    score = cross_val_score(model, X_train, y_train, cv=time_series_cv, scoring='neg_root_mean_squared_log_error', n_jobs=4).mean()\n",
    "    return score\n",
    "\n",
    "\n",
    "def rf_forecasting(X_train, y_train, X_test, path, preds, preds_index):\n",
    "    params = pd.read_csv(path, index_col=0)\n",
    "    params = params.iloc[:, 0].to_dict()\n",
    "    \n",
    "    for i in params:\n",
    "        if int(params[i]) == params[i]:\n",
    "            params[i] = int(params[i])\n",
    "    \n",
    "    model = RandomForestRegressor(**params, n_estimators=500, random_state=92, n_jobs=8)\n",
    "    model.fit(X_train, y_train)\n",
    "\n",
    "    predicted = np.maximum(model.predict(X_test), 0)\n",
    "\n",
    "    preds[preds_index] = predicted"
   ]
  },
  {
   "cell_type": "markdown",
   "id": "c05af2af-2440-4281-adcb-f79707afdc3f",
   "metadata": {},
   "source": [
    "### Dataset without lags"
   ]
  },
  {
   "cell_type": "code",
   "execution_count": null,
   "id": "001778d4-7838-4d57-9d4d-31bba6dec409",
   "metadata": {
    "scrolled": true
   },
   "outputs": [],
   "source": [
    "rewrite = False\n",
    "dataset = 'without_lags'\n",
    "\n",
    "optuna.logging.set_verbosity(optuna.logging.WARNING)\n",
    "\n",
    "for s, f in unique_sf:\n",
    "    path = f'model_hyperparameters/rf_params/{dataset}/rf_s_{s}_f_{f.lower().replace(\"/\", \"_or_\")}.csv'\n",
    "    if not os.path.exists(path) or rewrite:\n",
    "        X_train, y_train, _ = make_datasets(dataset, s, f)\n",
    "        \n",
    "        study = optuna.create_study(direction='maximize')\n",
    "        study.optimize(rf_objective, n_trials=300)\n",
    "\n",
    "        best_params = pd.Series(study.best_params)\n",
    "        print(best_params, study.best_value)\n",
    "\n",
    "        save_params(params, 'rf', dataset, path)"
   ]
  },
  {
   "cell_type": "code",
   "execution_count": null,
   "id": "3ed69a04-8691-4625-867b-13dec61ad363",
   "metadata": {},
   "outputs": [],
   "source": [
    "%%time\n",
    "\n",
    "dataset = 'without_lags'\n",
    "\n",
    "preds_rf_without_lags = pd.Series(np.zeros(28512))\n",
    "\n",
    "for s, f in unique_sf:\n",
    "    path = f'model_hyperparameters/rf_params/{dataset}/rf_s_{s}_f_{f.lower().replace(\"/\", \"_or_\")}.csv'\n",
    "\n",
    "    X_train, y_train, X_test = make_datasets(dataset, s, f)\n",
    "    \n",
    "    preds_index = test_base_dict[(s, f)].index\n",
    "    \n",
    "    rf_forecasting(X_train, y_train, X_test, path, preds_rf_without_lags, preds_index)"
   ]
  },
  {
   "cell_type": "code",
   "execution_count": null,
   "id": "fb0d635e-6822-436a-a1c8-7c4e166e6c26",
   "metadata": {},
   "outputs": [],
   "source": [
    "preds_rf_without_lags.index = test_index\n",
    "preds_rf_without_lags.to_csv('predictions/rf_without_lags_preds.csv', header=['sales'], index_label=['id'])"
   ]
  },
  {
   "cell_type": "markdown",
   "id": "f2506be6-c84d-4734-9a5d-4aa19b146a72",
   "metadata": {},
   "source": [
    "**Kaggle RMSLE score: 0.42014**"
   ]
  },
  {
   "cell_type": "markdown",
   "id": "742a3475-2591-484c-a6e7-50be5cbaec7b",
   "metadata": {},
   "source": [
    "### Dataset with lags"
   ]
  },
  {
   "cell_type": "code",
   "execution_count": null,
   "id": "6d451afd-ee17-4bb2-8135-79eff79f2493",
   "metadata": {},
   "outputs": [],
   "source": [
    "rewrite = False\n",
    "dataset = 'with_lags'\n",
    "\n",
    "optuna.logging.set_verbosity(optuna.logging.WARNING)\n",
    "\n",
    "for s, f in unique_sf:\n",
    "    path = f'model_hyperparameters/rf_params/{dataset}/rf_s_{s}_f_{f.lower().replace(\"/\", \"_or_\")}.csv'\n",
    "    if not os.path.exists(path) or rewrite:\n",
    "        X_train, y_train, _ = make_datasets(dataset, s, f)\n",
    "        \n",
    "        study = optuna.create_study(direction='maximize')\n",
    "        study.optimize(rf_objective, n_trials=200, n_jobs=8)\n",
    "\n",
    "        best_params = pd.Series(study.best_params)\n",
    "        print(best_params, study.best_value)\n",
    "\n",
    "        save_params(params, 'rf', dataset, path)"
   ]
  },
  {
   "cell_type": "code",
   "execution_count": null,
   "id": "45b2efdd-063b-43c7-be94-8b229587a2b1",
   "metadata": {},
   "outputs": [],
   "source": [
    "%%time\n",
    "\n",
    "dataset = 'with_lags'\n",
    "\n",
    "preds_rf_with_lags = pd.Series(np.zeros(28512))\n",
    "\n",
    "for s, f in unique_sf:\n",
    "    path = f'model_hyperparameters/rf_params/{dataset}/rf_s_{s}_f_{f.lower().replace(\"/\", \"_or_\")}.csv'\n",
    "\n",
    "    X_train, y_train, X_test = make_datasets(dataset, s, f)\n",
    "    \n",
    "    preds_index = test_base_dict[(s, f)].index\n",
    "    \n",
    "    rf_forecasting(X_train, y_train, X_test, path, preds_rf_with_lags, preds_index)"
   ]
  },
  {
   "cell_type": "code",
   "execution_count": null,
   "id": "03f6d61a-8db5-4751-9449-0c6ecc49b1c5",
   "metadata": {},
   "outputs": [],
   "source": [
    "preds_rf_with_lags.index = test_index\n",
    "preds_rf_with_lags.to_csv('predictions/rf_with_lags_preds.csv', header=['sales'], index_label=['id'])"
   ]
  },
  {
   "cell_type": "markdown",
   "id": "c5b4e85e-bad8-4010-8cb9-dc1962d46750",
   "metadata": {},
   "source": [
    "**Kaggle RMSLE score: 0.44696**"
   ]
  },
  {
   "cell_type": "markdown",
   "id": "d8fa8653-7376-4c51-9d68-106353c9e5d4",
   "metadata": {},
   "source": [
    "**Random Forest** shows great results. Especially this is true for dataset **without lags**, which scored **0.42014 RMSLE loss**."
   ]
  },
  {
   "cell_type": "markdown",
   "id": "ed4db523-e049-4378-ac81-af9b3636ff55",
   "metadata": {
    "jp-MarkdownHeadingCollapsed": true
   },
   "source": [
    "## k-NN"
   ]
  },
  {
   "attachments": {
    "4ff6ed10-47db-437f-837f-878d569f3026.png": {
     "image/png": "[encoded data removed]"
    }
   },
   "cell_type": "markdown",
   "id": "abe257e9-652d-4ecb-8ad6-1012fbeb36cb",
   "metadata": {},
   "source": [
    "**K-Nearest Neighbors (k-NN) model** predicts the value of a data point based on the average (*might be weighted*) of the values of its k nearest neighbors. It uses the distance (*might be Manhattan, Euclidean or other*) between points to find the closest neighbors in the dataset.\n",
    "\n",
    "\n",
    "<div style=\"text-align: center;\">\n",
    "    <img src=\"attachment:4ff6ed10-47db-437f-837f-878d569f3026.png\" \n",
    "        alt=\"k-NN\" style=\"width: 500px; height: auto;\">\n",
    "</div>\n",
    "\n",
    "Image source: https://towardsdatascience.com/knn-k-nearest-neighbors-1-a4707b24bd1d\n",
    "<br>\n",
    "Modified by me"
   ]
  },
  {
   "cell_type": "code",
   "execution_count": null,
   "id": "c3a52029-3953-4cb4-9931-629cb3ce0540",
   "metadata": {},
   "outputs": [],
   "source": [
    "from sklearn.neighbors import KNeighborsRegressor\n",
    "\n",
    "def knn_objective(trial):\n",
    "    time_series_cv = TimeSeriesSplit(n_splits=3)\n",
    "\n",
    "    max_neighbors = int(X_train.shape[0] / 5) - 1\n",
    "    \n",
    "    params = {\n",
    "        'n_neighbors': trial.suggest_int('n_neighbors', 1, max_neighbors),\n",
    "        'weights': trial.suggest_categorical('weights', ['uniform', 'distance']),\n",
    "        'p': trial.suggest_int('p', 1, 2),\n",
    "    }\n",
    "\n",
    "    scaler = trial.suggest_categorical('scaler', ['minmax', 'robust', 'standard'])\n",
    "\n",
    "    if scaler == 'minmax':\n",
    "        scaler = MinMaxScaler()\n",
    "    elif scaler == 'robust':\n",
    "        scaler = RobustScaler()\n",
    "    else:\n",
    "        scaler = StandardScaler()\n",
    "    \n",
    "    model = Pipeline([\n",
    "        ('scaler', scaler),\n",
    "        ('knn', KNeighborsRegressor(**params, n_jobs=8))\n",
    "    ])\n",
    "        \n",
    "    score = cross_val_score(model, X_train, y_train, cv=time_series_cv, scoring='neg_root_mean_squared_log_error', n_jobs=8).mean()\n",
    "    return score\n",
    "\n",
    "\n",
    "def knn_forecasting(X_train, y_train, X_test, path, preds, preds_index):\n",
    "    params = pd.read_csv(path, index_col=0)\n",
    "    params = params.iloc[:, 0].to_dict()\n",
    "\n",
    "    scaler = params['scaler']\n",
    "\n",
    "    if scaler == 'robust':\n",
    "        scaler = RobustScaler()\n",
    "    elif scaler == 'minmax':\n",
    "        scaler = MinMaxScaler()\n",
    "    else:\n",
    "        scaler = StandardScaler()\n",
    "        \n",
    "    del params['scaler']\n",
    "    \n",
    "    for i in params:\n",
    "        if params[i].isdigit() and int(params[i]) == float(params[i]):\n",
    "            params[i] = int(params[i])\n",
    "    \n",
    "    model = Pipeline([\n",
    "        ('scaler', scaler),\n",
    "        ('knn', KNeighborsRegressor(**params, n_jobs=8))\n",
    "    ])\n",
    "    \n",
    "    model.fit(X_train, y_train)\n",
    "\n",
    "    predicted = np.maximum(model.predict(X_test), 0)\n",
    "\n",
    "    preds[preds_index] = predicted"
   ]
  },
  {
   "cell_type": "markdown",
   "id": "9e509f12-60fd-4e8c-9809-b23dd1af638a",
   "metadata": {},
   "source": [
    "### Dataset without lags"
   ]
  },
  {
   "cell_type": "code",
   "execution_count": null,
   "id": "19919f84-fb70-4770-97c7-5680d83de365",
   "metadata": {},
   "outputs": [],
   "source": [
    "rewrite = True\n",
    "dataset = 'without_lags'\n",
    "\n",
    "optuna.logging.set_verbosity(optuna.logging.WARNING)\n",
    "\n",
    "for s, f in unique_sf:\n",
    "    path = f'model_hyperparameters/knn_params/{dataset}/knn_s_{s}_f_{f.lower().replace(\"/\", \"_or_\")}.csv'\n",
    "    if not os.path.exists(path) or rewrite:\n",
    "        X_train, y_train, _ = make_datasets(dataset, s, f)\n",
    "        \n",
    "        study = optuna.create_study(direction='maximize')\n",
    "        study.optimize(knn_objective, n_trials=250, n_jobs=8)\n",
    "\n",
    "        best_params = pd.Series(study.best_params)\n",
    "        print(best_params, study.best_value)\n",
    "\n",
    "        save_params(params, 'knn', dataset, path)"
   ]
  },
  {
   "cell_type": "code",
   "execution_count": null,
   "id": "22de662e-f24b-4c69-b5d1-f5e05d928dc4",
   "metadata": {},
   "outputs": [],
   "source": [
    "%%time\n",
    "\n",
    "dataset = 'without_lags'\n",
    "\n",
    "preds_knn_without_lags = pd.Series(np.zeros(28512))\n",
    "\n",
    "for s, f in unique_sf:\n",
    "    path = f'model_hyperparameters/knn_params/{dataset}/knn_s_{s}_f_{f.lower().replace(\"/\", \"_or_\")}.csv'\n",
    "\n",
    "    X_train, y_train, X_test = make_datasets(dataset, s, f)\n",
    "    \n",
    "    preds_index = test_base_dict[(s, f)].index\n",
    "\n",
    "    knn_forecasting(X_train, y_train, X_test, path, preds_knn_without_lags, preds_index)"
   ]
  },
  {
   "cell_type": "code",
   "execution_count": null,
   "id": "f93890fc-d5bc-4c9a-97cc-8d7796d8cdb8",
   "metadata": {},
   "outputs": [],
   "source": [
    "preds_knn_without_lags.index = test_index\n",
    "preds_knn_without_lags.to_csv('predictions/knn_without_lags_preds.csv', header=['sales'], index_label=['id'])"
   ]
  },
  {
   "cell_type": "markdown",
   "id": "cae56c62-d926-4549-8258-d026ba81c071",
   "metadata": {},
   "source": [
    "**Kaggle RMSLE score: 0.43843**"
   ]
  },
  {
   "cell_type": "markdown",
   "id": "c39ec7a0-bee0-43b1-bc5c-6814c16c2a46",
   "metadata": {},
   "source": [
    "### Dataset with lags"
   ]
  },
  {
   "cell_type": "code",
   "execution_count": null,
   "id": "81fec0ad-31a5-4466-bcba-a08e5f0d8c70",
   "metadata": {},
   "outputs": [],
   "source": [
    "rewrite = False\n",
    "dataset = 'with_lags'\n",
    "\n",
    "optuna.logging.set_verbosity(optuna.logging.WARNING)\n",
    "\n",
    "for s, f in unique_sf:\n",
    "    path = f'model_hyperparameters/knn_params/{dataset}/knn_s_{s}_f_{f.lower().replace(\"/\", \"_or_\")}.csv'\n",
    "    if not os.path.exists(path) or rewrite:\n",
    "        X_train, y_train, _ = make_datasets(dataset, s, f)\n",
    "        \n",
    "        study = optuna.create_study(direction='maximize')\n",
    "        study.optimize(knn_objective, n_trials=250, n_jobs=8)\n",
    "\n",
    "        best_params = pd.Series(study.best_params)\n",
    "        print(best_params, study.best_value)\n",
    "\n",
    "        save_params(params, 'knn', dataset, path)"
   ]
  },
  {
   "cell_type": "code",
   "execution_count": null,
   "id": "0dfba089-211f-448d-acd5-7171362d7c11",
   "metadata": {},
   "outputs": [],
   "source": [
    "%%time\n",
    "\n",
    "dataset = 'with_lags'\n",
    "\n",
    "preds_knn_with_lags = pd.Series(np.zeros(28512))\n",
    "\n",
    "for s, f in unique_sf:\n",
    "    path = f'model_hyperparameters/knn_params/{dataset}/knn_s_{s}_f_{f.lower().replace(\"/\", \"_or_\")}.csv'\n",
    "\n",
    "    X_train, y_train, X_test = make_datasets(dataset, s, f)\n",
    "    \n",
    "    preds_index = test_base_dict[(s, f)].index\n",
    "\n",
    "    knn_forecasting(X_train, y_train, X_test, path, preds_knn_with_lags, preds_index)"
   ]
  },
  {
   "cell_type": "code",
   "execution_count": null,
   "id": "9cd12b20-e067-4ba3-a3fa-0f17346cf5ce",
   "metadata": {},
   "outputs": [],
   "source": [
    "preds_knn_with_lags.index = test_index\n",
    "preds_knn_with_lags.to_csv('predictions/knn_with_lags_preds.csv', header=['sales'], index_label=['id'])"
   ]
  },
  {
   "cell_type": "markdown",
   "id": "eba44446-f71f-4f95-8a97-7845e5967182",
   "metadata": {},
   "source": [
    "**Kaggle RMSLE score: 0.43540**"
   ]
  },
  {
   "cell_type": "markdown",
   "id": "bf15af52-a738-44be-80af-d35b57bf9cee",
   "metadata": {},
   "source": [
    "**k-NN** results are good. Dataset **with lags** takes a little advantage here."
   ]
  },
  {
   "cell_type": "markdown",
   "id": "1d7fff22-da6f-45d2-9f78-e88834484dc6",
   "metadata": {
    "jp-MarkdownHeadingCollapsed": true
   },
   "source": [
    "## XGBoost"
   ]
  },
  {
   "attachments": {
    "5829bf4a-7406-48a3-8778-2dc4c165a0e3.png": {
     "image/png": "[encoded data removed]"
    }
   },
   "cell_type": "markdown",
   "id": "b2eda246-2b72-4000-bbb8-a9a9c669e3de",
   "metadata": {},
   "source": [
    "**Gradient Boosting** is a machine learning technique that builds an ensemble of weak models (usually **decision trees**) sequentially. Each new model corrects the errors of the previous ones by minimizing a loss function, improving prediction accuracy over time.\n",
    "\n",
    "<div style=\"text-align: center;\">\n",
    "    <img src=\"attachment:5829bf4a-7406-48a3-8778-2dc4c165a0e3.png\" \n",
    "        alt=\"XGBoost\" style=\"width: 500px; height: auto;\">\n",
    "</div>\n",
    "\n",
    "Image source: https://www.linkedin.com/pulse/mastering-gradient-boosting-machine-learning-guide-pratik-thorat\n",
    "\n",
    "\n",
    "**XGBoost** is a model that uses **gradient boosting** and enhances it with some features (regularization, higher training efficiency, more tree hyperparameters etc.)\n",
    "\n",
    "\n",
    "<div style=\"text-align: center;\">\n",
    "    <img src=\"https://upload.wikimedia.org/wikipedia/commons/6/69/XGBoost_logo.png\" \n",
    "        alt=\"XGBoost\" style=\"width: 500px; height: auto;\">\n",
    "</div>\n",
    "\n",
    "Image source: https://uk.wikipedia.org/wiki/XGBoost"
   ]
  },
  {
   "cell_type": "code",
   "execution_count": null,
   "id": "bd1f95a2-9e8a-440b-8743-b9e150552c9d",
   "metadata": {},
   "outputs": [],
   "source": [
    "from xgboost import XGBRegressor\n",
    "\n",
    "def xgb_objective(trial):\n",
    "    time_series_cv = TimeSeriesSplit(n_splits=3)\n",
    "    \n",
    "    params = {\n",
    "        'max_depth': trial.suggest_int('max_depth', 2, 8),\n",
    "        'min_child_weight': trial.suggest_int('min_child_weight', 0, 100),\n",
    "        'reg_alpha': trial.suggest_float('reg_alpha', 0.0001, 10, log=True),\n",
    "        'reg_lambda': trial.suggest_float('reg_lambda', 0.0001, 10, log=True),\n",
    "        'subsample': trial.suggest_float('subsample', 0.2, 1.0),\n",
    "        'colsample_bytree': trial.suggest_float('colsample_bytree', 0.2, 1.0),\n",
    "        'gamma': trial.suggest_float('gamma', 0, 100),\n",
    "        'learning_rate': trial.suggest_float('learning_rate', 2e-3, 0.5, log=True)\n",
    "    }\n",
    "    \n",
    "    model = XGBRegressor(**params, n_estimators=n_estimators, random_state=92)\n",
    "    \n",
    "    score = cross_val_score(model, X_train, y_train, cv=time_series_cv, scoring='neg_root_mean_squared_error', n_jobs=-1).mean()\n",
    "    return score\n",
    "\n",
    "\n",
    "def xgb_forecasting(X_train, y_train, X_test, path, preds, preds_index):\n",
    "    params = pd.read_csv(path, index_col=0)\n",
    "    params = params.iloc[:, 0].to_dict()\n",
    "\n",
    "    for i in params:\n",
    "        if int(params[i]) == params[i]:\n",
    "            params[i] = int(params[i])\n",
    "\n",
    "    model = XGBRegressor(**params, random_state=92, n_jobs=8)\n",
    "\n",
    "    model.fit(X_train, y_train)\n",
    "\n",
    "    predicted = np.maximum(model.predict(X_test), 0)\n",
    "\n",
    "    preds[preds_index] = predicted"
   ]
  },
  {
   "cell_type": "markdown",
   "id": "042b1385-b504-42bb-bca7-6675fba13ebe",
   "metadata": {},
   "source": [
    "### Dataset without lags"
   ]
  },
  {
   "cell_type": "code",
   "execution_count": null,
   "id": "7a0de55b-f94a-4220-a574-e45f21fb89f5",
   "metadata": {},
   "outputs": [],
   "source": [
    "rewrite = False\n",
    "dataset = 'without_lags'\n",
    "n_estimators = 200\n",
    "\n",
    "optuna.logging.set_verbosity(optuna.logging.WARNING)\n",
    "\n",
    "for s, f in unique_sf:\n",
    "    path = f'model_hyperparameters/xgb_params/{dataset}/xgb_s_{s}_f_{f.lower().replace(\"/\", \"_or_\")}.csv'\n",
    "    if not os.path.exists(path) or rewrite:\n",
    "        X_train, y_train, _ = make_datasets(dataset, s, f)\n",
    "        \n",
    "        study = optuna.create_study(direction='maximize')\n",
    "        study.optimize(xgb_objective, n_trials=400)\n",
    "\n",
    "        best_params = study.best_params\n",
    "        best_params['n_estimators'] = n_estimators\n",
    "        best_params = pd.Series(best_params)\n",
    "        \n",
    "        print(best_params, study.best_value)\n",
    "\n",
    "        save_params(params, 'xgb', dataset, path)"
   ]
  },
  {
   "cell_type": "code",
   "execution_count": null,
   "id": "5e5e632d-46ee-4dcb-bba0-371619628636",
   "metadata": {},
   "outputs": [],
   "source": [
    "%%time\n",
    "\n",
    "dataset = 'without_lags'\n",
    "\n",
    "preds_xgb_without_lags = pd.Series(np.zeros(28512))\n",
    "\n",
    "for s, f in unique_sf:\n",
    "    path = f'model_hyperparameters/xgb_params/{dataset}/xgb_s_{s}_f_{f.lower().replace(\"/\", \"_or_\")}.csv'\n",
    "\n",
    "    X_train, y_train, X_test = make_datasets(dataset, s, f)\n",
    "    \n",
    "    preds_index = test_base_dict[(s, f)].index\n",
    "    \n",
    "    xgb_forecasting(X_train, y_train, X_test, path, preds_xgb_without_lags, preds_index)"
   ]
  },
  {
   "cell_type": "code",
   "execution_count": null,
   "id": "cdc8dc2b-78bb-45b6-a59f-c5188c651898",
   "metadata": {},
   "outputs": [],
   "source": [
    "preds_xgb_without_lags.index = test_index\n",
    "preds_xgb_without_lags.to_csv('predictions/xgb_without_lags_preds.csv', header=['sales'], index_label=['id'])"
   ]
  },
  {
   "cell_type": "markdown",
   "id": "f0345427-5d49-4d2b-a52a-043e46c2df79",
   "metadata": {},
   "source": [
    "**Kaggle RMSLE score: 0.43196**"
   ]
  },
  {
   "cell_type": "markdown",
   "id": "88dd10d8-d081-4f24-b431-07e45758403c",
   "metadata": {},
   "source": [
    "### Dataset with lags"
   ]
  },
  {
   "cell_type": "code",
   "execution_count": null,
   "id": "67700e07-5e32-4d41-81c0-cc6b7e66b1c7",
   "metadata": {
    "scrolled": true
   },
   "outputs": [],
   "source": [
    "rewrite = False\n",
    "dataset = 'with_lags'\n",
    "n_estimators = 200\n",
    "\n",
    "optuna.logging.set_verbosity(optuna.logging.WARNING)\n",
    "\n",
    "for s, f in unique_sf:\n",
    "    path = f'model_hyperparameters/xgb_params/{dataset}/xgb_s_{s}_f_{f.lower().replace(\"/\", \"_or_\")}.csv'\n",
    "    if not os.path.exists(path) or rewrite:\n",
    "        X_train, y_train, _ = make_datasets(dataset, s, f)\n",
    "        \n",
    "        study = optuna.create_study(direction='maximize')\n",
    "        study.optimize(xgb_objective, n_trials=400)\n",
    "\n",
    "        best_params = study.best_params\n",
    "        best_params['n_estimators'] = n_estimators\n",
    "        best_params = pd.Series(best_params)\n",
    "\n",
    "        print(best_params, study.best_value)\n",
    "\n",
    "        save_params(params, 'xgb', dataset, path)"
   ]
  },
  {
   "cell_type": "code",
   "execution_count": null,
   "id": "0b8002c8-6499-422c-a24a-f46a6cad0c60",
   "metadata": {},
   "outputs": [],
   "source": [
    "%%time\n",
    "\n",
    "dataset = 'with_lags'\n",
    "\n",
    "preds_xgb_with_lags = pd.Series(np.zeros(28512))\n",
    "\n",
    "for s, f in unique_sf:\n",
    "    path = f'model_hyperparameters/xgb_params/{dataset}/xgb_s_{s}_f_{f.lower().replace(\"/\", \"_or_\")}.csv'\n",
    "\n",
    "    X_train, y_train, X_test = make_datasets(dataset, s, f)\n",
    "    \n",
    "    preds_index = test_base_dict[(s, f)].index\n",
    "    \n",
    "    xgb_forecasting(X_train, y_train, X_test, path, preds_xgb_with_lags, preds_index)"
   ]
  },
  {
   "cell_type": "code",
   "execution_count": null,
   "id": "1c211f2a-4c8c-44f1-b390-d1607076c632",
   "metadata": {},
   "outputs": [],
   "source": [
    "preds_xgb_with_lags.index = test_index\n",
    "preds_xgb_with_lags.to_csv('predictions/xgb_with_lags_preds.csv', header=['sales'], index_label=['id'])"
   ]
  },
  {
   "cell_type": "markdown",
   "id": "ba6f5339-e177-4246-be21-fe6ef1b954ff",
   "metadata": {},
   "source": [
    "**Kaggle RMSLE score: 0.43716**"
   ]
  },
  {
   "cell_type": "markdown",
   "id": "d6bf4ca6-d9cf-459e-bf7c-19ce347bc549",
   "metadata": {},
   "source": [
    "**XGBoost's** performance is a little bit better than **k-NN's**. Dataset **without lags** excels here with **0.43196 loss**."
   ]
  },
  {
   "cell_type": "markdown",
   "id": "82b754e8-0cd3-47d6-bb9f-fdd6cf4558aa",
   "metadata": {
    "jp-MarkdownHeadingCollapsed": true
   },
   "source": [
    "## LightGBM"
   ]
  },
  {
   "attachments": {},
   "cell_type": "markdown",
   "id": "0fe72d0b-21af-4186-836f-2e74cea5d718",
   "metadata": {},
   "source": [
    "**LightGBM**, like **XGBoost**, uses gradient boosting technique and improves it with new features (leaf-wise tree growth, parallel computing, more tree hyperparameters etc.)\n",
    "\n",
    "<div style=\"text-align: center;\">\n",
    "    <img src=\"https://lightgbm.readthedocs.io/en/latest/_images/LightGBM_logo_black_text.svg\" \n",
    "        alt=\"LightGBM\" style=\"width: 500px; height: auto;\">\n",
    "</div>\n",
    "\n",
    "Image source: https://lightgbm.readthedocs.io/"
   ]
  },
  {
   "cell_type": "code",
   "execution_count": null,
   "id": "882f6cad-8002-4699-a31e-643c7e54b831",
   "metadata": {},
   "outputs": [],
   "source": [
    "from lightgbm import LGBMRegressor\n",
    "\n",
    "def lgbm_objective(trial):\n",
    "    time_series_cv = TimeSeriesSplit(n_splits=3)\n",
    "    \n",
    "    params = {\n",
    "    'num_leaves': trial.suggest_int('num_leaves', 2, 31),\n",
    "    'max_depth': trial.suggest_int('max_depth', 2, 7),\n",
    "    'min_child_samples': trial.suggest_int('min_child_samples', 1, 100),\n",
    "    'reg_alpha': trial.suggest_float('reg_alpha', 1e-4, 10, log=True),\n",
    "    'reg_lambda': trial.suggest_float('reg_lambda', 1e-4, 10, log=True),\n",
    "    'subsample': trial.suggest_float('subsample', 0.25, 1.0),\n",
    "    'subsample_freq': trial.suggest_int('subsample_freq', 1, 10),\n",
    "    'colsample_bytree': trial.suggest_float('colsample_bytree', 0.25, 1.0),\n",
    "    'learning_rate': trial.suggest_float('learning_rate', 2e-3, 0.5, log=True)\n",
    "    }\n",
    "    \n",
    "    model = LGBMRegressor(**params, n_estimators=n_estimators, random_state=92, n_jobs=1)\n",
    "    \n",
    "    score = cross_val_score(model, X_train, y_train, cv=time_series_cv, scoring='neg_root_mean_squared_error', n_jobs=-1).mean()\n",
    "    return score\n",
    "\n",
    "\n",
    "def lgbm_forecasting(X_train, y_train, X_test, path, preds, preds_index):\n",
    "    params = pd.read_csv(path, index_col=0)\n",
    "    params = params.iloc[:, 0].to_dict()\n",
    "\n",
    "    for i in params:\n",
    "        if int(params[i]) == params[i]:\n",
    "            params[i] = int(params[i])\n",
    "    \n",
    "    model = LGBMRegressor(**params, random_state=92, n_jobs=-1, verbose=-1)\n",
    "    model.fit(X_train, y_train)\n",
    "\n",
    "    predicted = np.maximum(model.predict(X_test), 0)\n",
    "\n",
    "    preds[preds_index] = predicted"
   ]
  },
  {
   "cell_type": "markdown",
   "id": "843919bd-045d-4489-8f5d-391738fa65fa",
   "metadata": {},
   "source": [
    "### Dataset without lags"
   ]
  },
  {
   "cell_type": "code",
   "execution_count": null,
   "id": "396ab0ab-2100-44aa-95b3-37b3808dc356",
   "metadata": {
    "scrolled": true
   },
   "outputs": [],
   "source": [
    "rewrite = False\n",
    "dataset = 'without_lags'\n",
    "n_estimators = 160\n",
    "\n",
    "optuna.logging.set_verbosity(optuna.logging.WARNING)\n",
    "\n",
    "for s, f in unique_sf:\n",
    "    path = f'model_hyperparameters/lgbm_params/{dataset}/lgbm_s_{s}_f_{f.lower().replace(\"/\", \"_or_\")}.csv'\n",
    "    if not os.path.exists(path) or rewrite:\n",
    "        X_train, y_train, _ = make_datasets(dataset, s, f)\n",
    "        \n",
    "        study = optuna.create_study(direction='maximize')\n",
    "        study.optimize(lgbm_objective, n_trials=400)\n",
    "\n",
    "        best_params = study.best_params\n",
    "        best_params['n_estimators'] = n_estimators\n",
    "        best_params = pd.Series(best_params)\n",
    "        \n",
    "        print(best_params, study.best_value)\n",
    "\n",
    "        save_params(params, 'lgbm', dataset, path)"
   ]
  },
  {
   "cell_type": "code",
   "execution_count": null,
   "id": "e8d18b62-0103-4bf6-9382-85cfd3f21e28",
   "metadata": {},
   "outputs": [],
   "source": [
    "%%time\n",
    "\n",
    "dataset = 'without_lags'\n",
    "\n",
    "preds_lgbm_without_lags = pd.Series(np.zeros(28512))\n",
    "\n",
    "for s, f in unique_sf:\n",
    "    path = f'model_hyperparameters/lgbm_params/{dataset}/lgbm_s_{s}_f_{f.lower().replace(\"/\", \"_or_\")}.csv'\n",
    "\n",
    "    X_train, y_train, X_test = make_datasets(dataset, s, f)\n",
    "    \n",
    "    preds_index = test_base_dict[(s, f)].index\n",
    "    \n",
    "    lgbm_forecasting(X_train, y_train, X_test, path, preds_lgbm_without_lags, preds_index)"
   ]
  },
  {
   "cell_type": "code",
   "execution_count": null,
   "id": "0311df83-2d6d-4c6b-88d1-2c90e0b70784",
   "metadata": {},
   "outputs": [],
   "source": [
    "preds_lgbm_without_lags.index = test_index\n",
    "preds_lgbm_without_lags.to_csv('predictions/lgbm_without_lags_preds.csv', header=['sales'], index_label=['id'])"
   ]
  },
  {
   "cell_type": "markdown",
   "id": "bee20ad4-d1ff-488c-8458-08f76a9a04a1",
   "metadata": {},
   "source": [
    "**Kaggle RMSLE score: 0.42780**"
   ]
  },
  {
   "cell_type": "markdown",
   "id": "9e4ad8e5-c0d5-4a3c-baf6-f65db9ea0b92",
   "metadata": {},
   "source": [
    "### Dataset with lags"
   ]
  },
  {
   "cell_type": "code",
   "execution_count": null,
   "id": "b2ce5ebd-1b26-4503-885e-a2d28a160e09",
   "metadata": {
    "scrolled": true
   },
   "outputs": [],
   "source": [
    "rewrite = False\n",
    "dataset = 'with_lags'\n",
    "n_estimators = 160\n",
    "\n",
    "optuna.logging.set_verbosity(optuna.logging.WARNING)\n",
    "\n",
    "for s, f in unique_sf:\n",
    "    path = f'model_hyperparameters/lgbm_params/{dataset}/lgbm_s_{s}_f_{f.lower().replace(\"/\", \"_or_\")}.csv'\n",
    "    if not os.path.exists(path) or rewrite:\n",
    "        X_train, y_train, _ = make_datasets(dataset, s, f)\n",
    "        \n",
    "        study = optuna.create_study(direction='maximize')\n",
    "        study.optimize(lgbm_objective, n_trials=400)\n",
    "\n",
    "        best_params = study.best_params\n",
    "        best_params['n_estimators'] = n_estimators\n",
    "        best_params = pd.Series(best_params)\n",
    "        \n",
    "        print(best_params, study.best_value)\n",
    "\n",
    "        save_params(params, 'lgbm', dataset, path)"
   ]
  },
  {
   "cell_type": "code",
   "execution_count": null,
   "id": "7c0f0d46-5a19-42bf-a761-36f5ada2e85e",
   "metadata": {
    "scrolled": true
   },
   "outputs": [],
   "source": [
    "%%time\n",
    "\n",
    "dataset = 'with_lags'\n",
    "\n",
    "preds_lgbm_with_lags = pd.Series(np.zeros(28512))\n",
    "\n",
    "for s, f in unique_sf:\n",
    "    path = f'model_hyperparameters/lgbm_params/{dataset}/lgbm_s_{s}_f_{f.lower().replace(\"/\", \"_or_\")}.csv'\n",
    "\n",
    "    X_train, y_train, X_test = make_datasets(dataset, s, f)\n",
    "    \n",
    "    preds_index = test_base_dict[(s, f)].index\n",
    "    \n",
    "    lgbm_forecasting(X_train, y_train, X_test, path, preds_lgbm_with_lags, preds_index)"
   ]
  },
  {
   "cell_type": "code",
   "execution_count": null,
   "id": "ef487d4b-5680-45f3-bcee-c19ec5e30539",
   "metadata": {},
   "outputs": [],
   "source": [
    "preds_lgbm_with_lags.index = test_index\n",
    "preds_lgbm_with_lags.to_csv('predictions/lgbm_with_lags_preds.csv', header=['sales'], index_label=['id'])"
   ]
  },
  {
   "cell_type": "markdown",
   "id": "978cecd4-33d3-4736-b4d0-d22957439f15",
   "metadata": {},
   "source": [
    "**Kaggle RMSLE score: 0.44961**"
   ]
  },
  {
   "cell_type": "markdown",
   "id": "bccffe30-4dcb-40ef-b3bf-2a91a68d3515",
   "metadata": {},
   "source": [
    "**LightGBM** shows nice results as well as 3 previous models reaching **RMSLE 0.42780** with dataset **without lags** and **0.44961** with dataset **with lags**."
   ]
  },
  {
   "cell_type": "markdown",
   "id": "5e7fed64-0149-44b5-9f60-3977f60957be",
   "metadata": {
    "jp-MarkdownHeadingCollapsed": true
   },
   "source": [
    "# Neural networks"
   ]
  },
  {
   "cell_type": "markdown",
   "id": "a8c305b8-f8c5-4e8d-9640-4f05f5419449",
   "metadata": {
    "jp-MarkdownHeadingCollapsed": true
   },
   "source": [
    "## LSTM"
   ]
  },
  {
   "cell_type": "markdown",
   "id": "2547a44a-51a0-4ba8-99be-17dff75af4fa",
   "metadata": {},
   "source": [
    "**LSTM (Long Short-Term Memory) model** is a type of **recurrent neural network (RNN)** designed to handle sequential data and capture long-term dependencies.\n",
    "\n",
    "<div style=\"text-align: center;\">\n",
    "    <img src=\"https://cdn.quantconnect.com/i/tu/lstm-cell-2.png\" \n",
    "        alt=\"LSTM\" style=\"width: 500px; height: auto;\">\n",
    "</div>\n",
    "\n",
    "Image source: https://www.quantconnect.com/docs/v2/research-environment/applying-research/long-short-term-memory"
   ]
  },
  {
   "cell_type": "code",
   "execution_count": null,
   "id": "7be09384-51b8-4698-929d-8433f698a772",
   "metadata": {},
   "outputs": [],
   "source": [
    "import tensorflow as tf\n",
    "import keras\n",
    "from keras import layers\n",
    "\n",
    "def create_sequence_datasets(X_full, y_full, train_size, val_size=0, test_ds=False):\n",
    "    train_dataset = keras.utils.timeseries_dataset_from_array(\n",
    "        data=X_full, \n",
    "        targets=y_full[sequence_length - 1:], \n",
    "        sequence_length=sequence_length, \n",
    "        shuffle=False,\n",
    "        batch_size=2048,\n",
    "        start_index=0,\n",
    "        end_index=train_size)\n",
    "\n",
    "    if val_size:\n",
    "        val_dataset = keras.utils.timeseries_dataset_from_array(\n",
    "            data=X_full, \n",
    "            targets=y_full[sequence_length - 1:],\n",
    "            sequence_length=sequence_length, \n",
    "            shuffle=False,\n",
    "            batch_size=1024,\n",
    "            start_index=train_size - sequence_length + 1,\n",
    "            end_index=train_size + val_size)\n",
    "\n",
    "    if test_ds:\n",
    "        test_dataset = keras.utils.timeseries_dataset_from_array(\n",
    "            data=X_full, \n",
    "            targets=None,\n",
    "            sequence_length=sequence_length, \n",
    "            shuffle=False,\n",
    "            batch_size=256,\n",
    "            start_index=train_size + val_size - sequence_length + 1)\n",
    "\n",
    "    if test_ds and val_size:\n",
    "        return train_dataset, val_dataset, test_dataset\n",
    "    elif test_ds:\n",
    "        return train_dataset, test_dataset\n",
    "    elif val_size:\n",
    "        return train_dataset, val_dataset\n",
    "    else:\n",
    "        return train_dataset"
   ]
  },
  {
   "cell_type": "code",
   "execution_count": null,
   "id": "b07f4336-42f9-4dc0-be29-016d220fda63",
   "metadata": {},
   "outputs": [],
   "source": [
    "def lstm_objective(trial):\n",
    "    features_num = X_train.shape[-1]\n",
    "    patience = 10\n",
    "    epochs = 80\n",
    "\n",
    "    \n",
    "    units = 2 ** trial.suggest_int('units', 2, 9)\n",
    "    norm_layer = trial.suggest_categorical('norm_layer', [True, False])\n",
    "    dropout_rate = trial.suggest_float('dropout_rate', 1e-3, 0.5)\n",
    "    learning_rate = trial.suggest_float('learning_rate', 0.01, 0.7)\n",
    "\n",
    "    \n",
    "    inputs = keras.Input(shape=(sequence_length, features_num))\n",
    "    x = layers.LSTM(units)(inputs)\n",
    "    if norm_layer:\n",
    "        x = layers.LayerNormalization()(x)\n",
    "    x = layers.Dropout(dropout_rate)(x)\n",
    "    outputs = layers.Dense(1)(x)\n",
    "\n",
    "    model = keras.Model(inputs=inputs, outputs=outputs)\n",
    "    model.compile(optimizer=keras.optimizers.Adam(learning_rate=learning_rate),\n",
    "                  loss='mean_squared_error', metrics=[keras.metrics.RootMeanSquaredError()])\n",
    "\n",
    "    \n",
    "    callbacks = [keras.callbacks.EarlyStopping(monitor='val_loss', patience=patience, restore_best_weights=True)]\n",
    "    history = model.fit(train_dataset, epochs=epochs, validation_data=val_dataset, callbacks=callbacks, verbose=False)\n",
    "\n",
    "    best_epochs_num = np.argmin(history.history['val_loss']) + 1\n",
    "    epochs_lst.append(best_epochs_num)\n",
    "\n",
    "    score = np.min(history.history['val_root_mean_squared_error'])\n",
    "    return score\n",
    "\n",
    "\n",
    "def lstm_forecasting(train_dataset, test_dataset, path, preds, preds_index):\n",
    "    params = pd.read_csv(path, index_col=0)\n",
    "    \n",
    "    params = params.iloc[:, 0].to_dict()\n",
    "\n",
    "    units = int(params['units'])\n",
    "    norm_layer = bool(params['norm_layer'])\n",
    "    dropout_rate = float(params['dropout_rate'])\n",
    "    learning_rate = float(params['learning_rate'])\n",
    "    epochs = int(params['epochs'])\n",
    "\n",
    "    inputs = keras.Input(shape=(sequence_length, features_num))\n",
    "    x = layers.LSTM(units)(inputs)\n",
    "    if norm_layer:\n",
    "        x = layers.LayerNormalization()(x)\n",
    "    x = layers.Dropout(dropout_rate)(x)\n",
    "    outputs = layers.Dense(1)(x)\n",
    "\n",
    "    model = keras.Model(inputs=inputs, outputs=outputs)\n",
    "    model.compile(optimizer=keras.optimizers.Adam(learning_rate=learning_rate),\n",
    "                  loss='mean_squared_error', metrics=[keras.metrics.RootMeanSquaredError()])\n",
    "\n",
    "    history = model.fit(train_dataset, epochs=epochs, verbose=False)\n",
    "    predicted = np.maximum(model.predict(test_dataset).reshape(-1), 0)\n",
    "    print(predicted)\n",
    "\n",
    "    preds[preds_index] = predicted"
   ]
  },
  {
   "cell_type": "code",
   "execution_count": null,
   "id": "aa28aae6-1243-4145-9ff3-104a5de05ea6",
   "metadata": {
    "scrolled": true
   },
   "outputs": [],
   "source": [
    "%%time\n",
    "\n",
    "rewrite = False\n",
    "optuna.logging.set_verbosity(optuna.logging.ERROR)\n",
    "dataset = 'with_lags'\n",
    "sequence_length = 7\n",
    "\n",
    "for s, f in unique_sf:\n",
    "    path = f'model_hyperparameters/lstm_params/{dataset}/lstm_s_{s}_f_{f.lower().replace(\"/\", \"_or_\")}.csv'\n",
    "    if not os.path.exists(path) or rewrite:\n",
    "        epochs_lst = []\n",
    "        \n",
    "        X_train, y_train, _ = make_datasets(dataset, s, f)\n",
    "\n",
    "        val_size = round(0.25 * X_train.shape[0])\n",
    "        train_size = X_train.shape[0] - val_size\n",
    "\n",
    "        X_val, y_val = X_train[train_size:], y_train[train_size:]\n",
    "        X_train, y_train = X_train[:train_size], y_train[:train_size]\n",
    "        \n",
    "        scaler = MinMaxScaler()\n",
    "        X_train = scaler.fit_transform(X_train)\n",
    "        X_val = scaler.transform(X_val)\n",
    "        \n",
    "        X_full = np.vstack([X_train, X_val])\n",
    "        \n",
    "        val_size = round(0.25 * X_train.shape[0])\n",
    "        train_size = X_train.shape[0] - val_size\n",
    "\n",
    "        train_dataset, val_dataset = create_sequence_datasets(X_full, y_train, train_size, val_size, test_ds=False)\n",
    "\n",
    "        study = optuna.create_study(direction='minimize')\n",
    "        study.optimize(lstm_objective, n_trials=25)\n",
    "\n",
    "        best_params = study.best_params\n",
    "        best_trial = study.best_trial\n",
    "        best_params['epochs'] = epochs_lst[study.best_trial.number]\n",
    "        best_params = pd.Series(best_params)\n",
    "        \n",
    "        print(best_params, study.best_value)\n",
    "        \n",
    "        save_params(params, 'lstm', dataset, path)"
   ]
  },
  {
   "cell_type": "code",
   "execution_count": null,
   "id": "afbf73d5-d7ba-44ad-bd20-6dc87f3a9a2a",
   "metadata": {},
   "outputs": [],
   "source": [
    "%%time\n",
    "\n",
    "dataset = 'with_lags'\n",
    "sequence_length = 7\n",
    "\n",
    "preds_lstm_with_lags = pd.Series(np.zeros(28512))\n",
    "\n",
    "for s, f in unique_sf:\n",
    "    path = f'model_hyperparameters/lstm_params/{dataset}/lstm_s_{s}_f_{f.lower().replace(\"/\", \"_or_\")}.csv'\n",
    "    \n",
    "    X_train, y_train, X_test = make_datasets(dataset, s, f)\n",
    "\n",
    "    scaler = MinMaxScaler()\n",
    "    X_train = scaler.fit_transform(X_train)\n",
    "    X_test = scaler.transform(X_test)\n",
    "    \n",
    "    X_full = np.vstack([X_train, X_test])\n",
    "    train_size = X_train.shape[0]\n",
    "    features_num = X_train.shape[-1]\n",
    "    \n",
    "    train_dataset, test_dataset = create_sequence_datasets(X_full, y_train, train_size, val_size=0, test_ds=True)\n",
    "    \n",
    "    preds_index = test_base_dict[(s, f)].index\n",
    "    \n",
    "    lstm_forecasting(train_dataset, test_dataset, path, preds_lstm_with_lags, preds_index)"
   ]
  },
  {
   "cell_type": "code",
   "execution_count": null,
   "id": "a5115b89-c5fb-43a7-9a5c-8cba8e5ad1c8",
   "metadata": {},
   "outputs": [],
   "source": [
    "preds_lstm_with_lags.index = test_index\n",
    "preds_lstm_with_lags.to_csv('predictions/lstm_with_lags_preds.csv', header=['sales'], index_label=['id'])"
   ]
  },
  {
   "cell_type": "markdown",
   "id": "fb04f583-367b-480e-b43d-97993d1240a1",
   "metadata": {},
   "source": [
    "**Kaggle RMSLE score: 1.08781**"
   ]
  },
  {
   "cell_type": "markdown",
   "id": "34c7cab6-2ec6-4ff6-9a7f-884b540e8c5c",
   "metadata": {},
   "source": [
    "The result of **LSTM model** is not great, although this model may be one of the most powerful for time series forecasting. I think it happened because:\n",
    "1. it is significantly harder to train **LSTM** compared to classic **ML models** (epsecially the fact that **LSTM** is much more prone to overfitting)\n",
    "2. Slight change in hyperparameters may lead to huge changes in model performance.\n",
    "3. **LSTM** model needs to consume much more data to work well.\n",
    "4. Long training time. Therefore searching for the best hyperparameters takes a really long time.\n",
    "\n",
    "Overall, I suppose that the main issue here is that I have **1686** datasets, each of which has to be trained independently. It makes it impossible to track each training and hyperparameters optimization processes which is essential when it comes to such complex model."
   ]
  },
  {
   "cell_type": "markdown",
   "id": "be70cf9e-429c-4d78-91cf-a436ec0b652f",
   "metadata": {
    "jp-MarkdownHeadingCollapsed": true
   },
   "source": [
    "# Ensemble predictions"
   ]
  },
  {
   "cell_type": "markdown",
   "id": "81f049a2-1ba0-4f1c-895a-b99622917893",
   "metadata": {},
   "source": [
    "I will optimize model weights for each **sub dataset** independently. This should give better results compared to whole dataset model weights optimization."
   ]
  },
  {
   "cell_type": "markdown",
   "id": "0beb21fe-b20b-4852-b81e-3b7042be528b",
   "metadata": {
    "jp-MarkdownHeadingCollapsed": true
   },
   "source": [
    "### 14 models"
   ]
  },
  {
   "cell_type": "markdown",
   "id": "8a45ddf2-0bc1-4d96-9af0-d24219a6e3a8",
   "metadata": {},
   "source": [
    "Here I will build an ensemble model consisting of all pairs of **ML models** and datasets (**without lags** & **with lags**) that I have already trained.\n",
    "\n",
    "I couldn't put **Holt-Winters model** here as validation sets used below are too large for this model (it starts giving really bad predictions after 20-30 days)."
   ]
  },
  {
   "cell_type": "code",
   "execution_count": null,
   "id": "1930e669-8bc2-4dc0-96da-d26d49f5f72b",
   "metadata": {},
   "outputs": [],
   "source": [
    "def make_cv_preds_14(s, f, splits=5):\n",
    "    X_train_without_lags = train_base_dict[(s, f)].drop(columns=['date', 'store_nbr', 'family', 'sales']).values\n",
    "    y_train_without_lags = train_base_dict[(s, f)]['sales'].values\n",
    "\n",
    "    X_train_with_lags = train_with_lags_dict[(s, f)].drop(columns=['date', 'store_nbr', 'family', 'sales']).values\n",
    "    y_train_with_lags = train_with_lags_dict[(s, f)]['sales'].values\n",
    "\n",
    "    split_len = int((X_train_with_lags.shape[0] / 2) // splits)\n",
    "\n",
    "    ensemble_preds = np.zeros(shape=(splits * split_len, 14))\n",
    "\n",
    "    for i in range(splits):\n",
    "        preds_index = np.arange(i * split_len, (i + 1) * split_len)\n",
    "        \n",
    "        X_train_without_lags_part = X_train_without_lags[:split_len * (i - splits)]\n",
    "        y_train_without_lags_part = y_train_without_lags[:split_len * (i - splits)]\n",
    "        X_train_with_lags_part = X_train_with_lags[:split_len * (i - splits)]\n",
    "        y_train_with_lags_part = y_train_with_lags[:split_len * (i - splits)]\n",
    "\n",
    "        if i == splits - 1:\n",
    "            X_val_without_lags = X_train_without_lags[split_len * (i - splits):]\n",
    "            X_val_with_lags = X_train_with_lags[split_len * (i - splits):]\n",
    "        else:\n",
    "            X_val_without_lags = X_train_without_lags[split_len * (i - splits):split_len * (i + 1 - splits)]\n",
    "            X_val_with_lags = X_train_with_lags[split_len * (i - splits):split_len * (i + 1 - splits)]\n",
    "\n",
    "        \n",
    "        path = f'model_hyperparameters/ridge_params/without_lags/ridge_s_{s}_f_{f.lower().replace(\"/\", \"_or_\")}.csv'\n",
    "        ridge_forecasting(X_train_without_lags_part, y_train_without_lags_part, X_val_without_lags, path, ensemble_preds[:, 0], preds_index)\n",
    "\n",
    "        path = f'model_hyperparameters/ridge_params/with_lags/ridge_s_{s}_f_{f.lower().replace(\"/\", \"_or_\")}.csv'\n",
    "        ridge_forecasting(X_train_with_lags_part, y_train_with_lags_part, X_val_with_lags, path, ensemble_preds[:, 1], preds_index)\n",
    "\n",
    "\n",
    "        path = f'model_hyperparameters/lasso_params/without_lags/lasso_s_{s}_f_{f.lower().replace(\"/\", \"_or_\")}.csv'\n",
    "        lasso_forecasting(X_train_without_lags_part, y_train_without_lags_part, X_val_without_lags, path, ensemble_preds[:, 2], preds_index)\n",
    "\n",
    "        path = f'model_hyperparameters/lasso_params/with_lags/lasso_s_{s}_f_{f.lower().replace(\"/\", \"_or_\")}.csv'\n",
    "        lasso_forecasting(X_train_with_lags_part, y_train_with_lags_part, X_val_with_lags, path, ensemble_preds[:, 3], preds_index)\n",
    "\n",
    "        \n",
    "        path = f'model_hyperparameters/elastic_net_params/without_lags/elastic_net_s_{s}_f_{f.lower().replace(\"/\", \"_or_\")}.csv'\n",
    "        elastic_net_forecasting(X_train_without_lags_part, y_train_without_lags_part, X_val_without_lags, path, ensemble_preds[:, 4], preds_index)\n",
    "\n",
    "        path = f'model_hyperparameters/elastic_net_params/with_lags/elastic_net_s_{s}_f_{f.lower().replace(\"/\", \"_or_\")}.csv'\n",
    "        elastic_net_forecasting(X_train_with_lags_part, y_train_with_lags_part, X_val_with_lags, path, ensemble_preds[:, 5], preds_index)\n",
    "\n",
    "\n",
    "        path = f'model_hyperparameters/rf_params/without_lags/rf_s_{s}_f_{f.lower().replace(\"/\", \"_or_\")}.csv'\n",
    "        rf_forecasting(X_train_without_lags_part, y_train_without_lags_part, X_val_without_lags, path, ensemble_preds[:, 6], preds_index)\n",
    "\n",
    "        path = f'model_hyperparameters/rf_params/with_lags/rf_s_{s}_f_{f.lower().replace(\"/\", \"_or_\")}.csv'\n",
    "        rf_forecasting(X_train_with_lags_part, y_train_with_lags_part, X_val_with_lags, path, ensemble_preds[:, 7], preds_index)\n",
    "\n",
    "\n",
    "        path = f'model_hyperparameters/knn_params/without_lags/knn_s_{s}_f_{f.lower().replace(\"/\", \"_or_\")}.csv'\n",
    "        knn_forecasting(X_train_without_lags_part, y_train_without_lags_part, X_val_without_lags, path, ensemble_preds[:, 8], preds_index)\n",
    "\n",
    "        path = f'model_hyperparameters/knn_params/with_lags/knn_s_{s}_f_{f.lower().replace(\"/\", \"_or_\")}.csv'\n",
    "        knn_forecasting(X_train_with_lags_part, y_train_with_lags_part, X_val_with_lags, path, ensemble_preds[:, 9], preds_index)\n",
    "\n",
    "\n",
    "        path = f'model_hyperparameters/xgb_params/without_lags/xgb_s_{s}_f_{f.lower().replace(\"/\", \"_or_\")}.csv'\n",
    "        xgb_forecasting(X_train_without_lags_part, y_train_without_lags_part, X_val_without_lags, path, ensemble_preds[:, 10], preds_index)\n",
    "\n",
    "        path = f'model_hyperparameters/xgb_params/with_lags/xgb_s_{s}_f_{f.lower().replace(\"/\", \"_or_\")}.csv'\n",
    "        xgb_forecasting(X_train_with_lags_part, y_train_with_lags_part, X_val_with_lags, path, ensemble_preds[:, 11], preds_index)\n",
    "\n",
    "\n",
    "        path = f'model_hyperparameters/lgbm_params/without_lags/lgbm_s_{s}_f_{f.lower().replace(\"/\", \"_or_\")}.csv'\n",
    "        lgbm_forecasting(X_train_without_lags_part, y_train_without_lags_part, X_val_without_lags, path, ensemble_preds[:, 12], preds_index)\n",
    "\n",
    "        path = f'model_hyperparameters/lgbm_params/with_lags/lgbm_s_{s}_f_{f.lower().replace(\"/\", \"_or_\")}.csv'\n",
    "        lgbm_forecasting(X_train_with_lags_part, y_train_with_lags_part, X_val_with_lags, path, ensemble_preds[:, 13], preds_index)\n",
    "    return ensemble_preds"
   ]
  },
  {
   "cell_type": "code",
   "execution_count": null,
   "id": "8fbb7ce5-3980-464f-b770-b102818def9e",
   "metadata": {},
   "outputs": [],
   "source": [
    "if not os.path.exists(f'predictions/cv_predictions/14_models'):\n",
    "    os.makedirs(f'predictions/cv_predictions/14_models')\n",
    "\n",
    "rewrite = False\n",
    "cols = ['ridge_without_lags', 'ridge_with_lags', 'lasso_without_lags', 'lasso_with_lags', 'elastic_net_without_lags', 'elastic_net_with_lags',\n",
    "       'rf_without_lags', 'rf_with_lags', 'knn_without_lags', 'knn_with_lags', 'xgb_without_lags', 'xgb_with_lags', 'lgbm_without_lags', 'lgbm_with_lags',]\n",
    "optuna.logging.set_verbosity(optuna.logging.WARNING)\n",
    "\n",
    "for s, f in unique_sf:\n",
    "    path = f'predictions/cv_predictions/14_models/cv_preds_s_{s}_f_{f.lower().replace(\"/\", \"_or_\")}.csv'\n",
    "    if not os.path.exists(path) or rewrite:\n",
    "        preds = make_cv_preds_14(s, f)\n",
    "        preds = pd.DataFrame(preds, columns=cols)\n",
    "        preds.to_csv(path)"
   ]
  },
  {
   "cell_type": "code",
   "execution_count": null,
   "id": "850b24af-97ed-497c-9f18-14a89b0e6751",
   "metadata": {},
   "outputs": [],
   "source": [
    "from sklearn.metrics import root_mean_squared_log_error as rmsle\n",
    "\n",
    "def ensemble_objective_14(trial):\n",
    "    w1 = trial.suggest_float('w_ridge_without_lags', 0, 1)\n",
    "    w2 = trial.suggest_float('w_ridge_with_lags', 0, 1)\n",
    "    w3 = trial.suggest_float('w_lasso_without_lags', 0, 1)\n",
    "    w4 = trial.suggest_float('w_lasso_with_lags', 0, 1)\n",
    "    w5 = trial.suggest_float('w_elastic_net_without_lags', 0, 1)\n",
    "    w6 = trial.suggest_float('w_elastic_net_with_lags', 0, 1)\n",
    "    w7 = trial.suggest_float('w_rf_without_lags', 0, 1)\n",
    "    w8 = trial.suggest_float('w_rf_with_lags', 0, 1)\n",
    "    w9 = trial.suggest_float('w_knn_without_lags', 0, 1)\n",
    "    w10 = trial.suggest_float('w_knn_with_lags', 0, 1)\n",
    "    w11 = trial.suggest_float('w_xgb_without_lags', 0, 1)\n",
    "    w12 = trial.suggest_float('w_xgb_with_lags', 0, 1)\n",
    "    w13 = trial.suggest_float('w_lgbm_without_lags', 0, 1)\n",
    "    w14 = trial.suggest_float('w_lgbm_with_lags', 0, 1)\n",
    "\n",
    "    weights = np.array([w1, w2, w3, w4, w5, w6, w7, w8, w9, w10, w11, w12, w13, w14])\n",
    "    weights /= np.sum(weights)\n",
    "\n",
    "    loss = 0\n",
    "    \n",
    "    for i in range(splits):\n",
    "        y_true = y_train[split_len * i:split_len * (i + 1)]\n",
    "        y_pred_all = ensemble_preds[split_len * i:split_len * (i + 1)]\n",
    "        y_pred = np.dot(weights, y_pred_all.T)\n",
    "\n",
    "        loss += rmsle(y_true, y_pred)\n",
    "\n",
    "    return loss / splits"
   ]
  },
  {
   "cell_type": "code",
   "execution_count": null,
   "id": "c9c20ee1-4a9c-448d-ba15-1868ca54dea8",
   "metadata": {},
   "outputs": [],
   "source": [
    "%%time\n",
    "\n",
    "splits = 3\n",
    "rewrite = False\n",
    "optuna.logging.set_verbosity(optuna.logging.WARNING)\n",
    "\n",
    "for s, f in unique_sf:\n",
    "    path = f'model_hyperparameters/ensemble_weights/14_models/ensemble_weights_s_{s}_f_{f.lower().replace(\"/\", \"_or_\")}.csv'\n",
    "    ensemble_preds_path = f'predictions/cv_predictions/10_models/cv_preds_s_{s}_f_{f.lower().replace(\"/\", \"_or_\")}.csv'\n",
    "    if not os.path.exists(path) or rewrite: \n",
    "        split_len = int((train_with_lags_dict[(s, f)].shape[0] / 2) // splits)\n",
    "        \n",
    "        y_train = train_with_lags_dict[(s, f)]['sales'][(-1) * split_len * splits:]\n",
    "        \n",
    "        ensemble_preds = pd.read_csv(ensemble_preds_path, index_col=0)\n",
    "    \n",
    "        study = optuna.create_study(direction='minimize')\n",
    "        study.optimize(ensemble_objective_14, n_trials=1000, n_jobs=5)\n",
    "    \n",
    "        best_params = study.best_params\n",
    "        best_params = pd.Series(best_params)\n",
    "        best_params /= best_params.sum()\n",
    "            \n",
    "        print(best_params, study.best_value)\n",
    "        \n",
    "        best_params.to_csv(path, index_label='model', header=['weight'])"
   ]
  },
  {
   "cell_type": "code",
   "execution_count": null,
   "id": "debb884a-994b-4ca4-a395-e8c1ad074067",
   "metadata": {},
   "outputs": [],
   "source": [
    "ridge_without_lags_preds = pd.read_csv('predictions/ridge_without_lags_preds.csv', index_col=0).values\n",
    "ridge_with_lags_preds = pd.read_csv('predictions/ridge_with_lags_preds.csv', index_col=0).values\n",
    "\n",
    "lasso_without_lags_preds = pd.read_csv('predictions/lasso_without_lags_preds.csv', index_col=0).values\n",
    "lasso_with_lags_preds = pd.read_csv('predictions/lasso_with_lags_preds.csv', index_col=0).values\n",
    "\n",
    "elastic_net_without_lags_preds = pd.read_csv('predictions/elastic_net_without_lags_preds.csv', index_col=0).values\n",
    "elastic_net_with_lags_preds = pd.read_csv('predictions/elastic_net_with_lags_preds.csv', index_col=0).values\n",
    "\n",
    "rf_without_lags_preds = pd.read_csv('predictions/rf_without_lags_preds.csv', index_col=0).values\n",
    "rf_with_lags_preds = pd.read_csv('predictions/rf_with_lags_preds.csv', index_col=0).values\n",
    "\n",
    "knn_without_lags_preds = pd.read_csv('predictions/knn_without_lags_preds.csv', index_col=0).values\n",
    "knn_with_lags_preds = pd.read_csv('predictions/knn_with_lags_preds.csv', index_col=0).values\n",
    "\n",
    "xgb_without_lags_preds = pd.read_csv('predictions/xgb_without_lags_preds.csv', index_col=0).values\n",
    "xgb_with_lags_preds = pd.read_csv('predictions/xgb_with_lags_preds.csv', index_col=0).values\n",
    "\n",
    "lgbm_without_lags_preds = pd.read_csv('predictions/lgbm_without_lags_preds.csv', index_col=0).values\n",
    "lgbm_with_lags_preds = pd.read_csv('predictions/lgbm_with_lags_preds.csv', index_col=0).values\n",
    "\n",
    "model_preds = np.hstack([ridge_without_lags_preds, ridge_with_lags_preds, lasso_without_lags_preds, lasso_with_lags_preds,\n",
    "                        elastic_net_without_lags_preds, elastic_net_with_lags_preds, rf_without_lags_preds, rf_with_lags_preds,\n",
    "                        knn_without_lags_preds, knn_with_lags_preds, xgb_without_lags_preds, xgb_with_lags_preds,\n",
    "                        lgbm_without_lags_preds, lgbm_with_lags_preds])\n",
    "\n",
    "ensemble_14_models_preds = pd.Series(np.zeros(28512))\n",
    "\n",
    "for s, f in unique_sf:\n",
    "    preds_index = test_base_dict[(s, f)].index\n",
    "    \n",
    "    path = f'model_hyperparameters/ensemble_weights/14_models/ensemble_weights_s_{s}_f_{f.lower().replace(\"/\", \"_or_\")}.csv'\n",
    "    weights = pd.read_csv(path, index_col=0).values.reshape(-1)\n",
    "    \n",
    "    ensemble_14_models_preds[preds_index] = np.dot(weights, model_preds[preds_index, :].T)"
   ]
  },
  {
   "cell_type": "code",
   "execution_count": null,
   "id": "32e113c6-3edd-4c1d-a048-43c2485b2e1f",
   "metadata": {},
   "outputs": [],
   "source": [
    "ensemble_14_models_preds.index = test_index\n",
    "ensemble_14_models_preds.to_csv('predictions/ensemble_14_models_preds.csv', header=['sales'], index_label=['id'])"
   ]
  },
  {
   "cell_type": "markdown",
   "id": "ce3e886a-bb17-4a82-b33a-f45c6b7a6b4a",
   "metadata": {},
   "source": [
    "**Kaggle RMSLE score: 0.42283**"
   ]
  },
  {
   "cell_type": "markdown",
   "id": "73515ec9-9ce4-4969-b628-8777f373ea02",
   "metadata": {},
   "source": [
    "The result is pretty good, but still it's worse than single **Random Forest model** with dataset **without lags**.\n",
    "\n",
    "I believe this happened because weak models (**Ridge**, **Lasso** and **Elastic Net** with dataset **without lags**) had too large weights in ensemble. Maybe validation sets were too far from testing period (in terms of time) and it made distribution of model weights not optimal.\n",
    "\n",
    "I'll try to fix these issues in next sub-module."
   ]
  },
  {
   "cell_type": "markdown",
   "id": "35b8b480-1dae-4282-bc85-9d14d11aad29",
   "metadata": {
    "jp-MarkdownHeadingCollapsed": true
   },
   "source": [
    "### 10 models"
   ]
  },
  {
   "cell_type": "markdown",
   "id": "3c8ca29b-c34a-4015-bc44-8432759c55d0",
   "metadata": {},
   "source": [
    "In this submodule I decided to remove all linear models (**Ridge**, **Lasso**, **Elastic Net**), add **Holt-Winters model** and change the length of validation sets.\n",
    "\n",
    "Since the testing period is 16 days, I made validation datasets last the same amount of time. This change also made validation datasets really close to test dataset in terms of time. It enabled adequate usage of **Holt-Winters model** in determining model weights in the ensemble (This model is not very good for predicting really distant future).\n",
    "\n",
    "I also used 4 different number of validation datasets (1 to 4) to robustly determine which validation scheme performs better here. Then I tried to combine the ensembles by empirically setting weights (taking into account insights from previous step) for each set of model weights found and checking the result on the **Kaggle competition page**. \n",
    "\n",
    "The goal here is to minimize **Kaggle loss** as this approach uses **data leakage** to maximize results, so in a real-world problem one would use single variant of validation dataset or intuitively combine results (not evaluating each validation scheme results on testing dataset)."
   ]
  },
  {
   "cell_type": "code",
   "execution_count": null,
   "id": "11909dc6-7746-427c-854a-317c88e7c46f",
   "metadata": {},
   "outputs": [],
   "source": [
    "def make_cv_preds_10(s, f, splits=4):\n",
    "    y_train_full = train_initial_dict[(s, f)].values\n",
    "    \n",
    "    X_train_without_lags = train_base_dict[(s, f)].drop(columns=['date', 'store_nbr', 'family', 'sales']).values\n",
    "    y_train_without_lags = train_base_dict[(s, f)]['sales'].values\n",
    "\n",
    "    X_train_with_lags = train_with_lags_dict[(s, f)].drop(columns=['date', 'store_nbr', 'family', 'sales']).values\n",
    "    y_train_with_lags = train_with_lags_dict[(s, f)]['sales'].values\n",
    "\n",
    "    split_len = 16\n",
    "\n",
    "    ensemble_preds = np.zeros(shape=(splits * split_len, 10))\n",
    "\n",
    "    for i in range(splits):\n",
    "        preds_index = np.arange(i * split_len, (i + 1) * split_len)\n",
    "\n",
    "        y_train_full_part = y_train_full[:split_len * (i - splits)]\n",
    "        \n",
    "        X_train_without_lags_part = X_train_without_lags[:split_len * (i - splits)]\n",
    "        y_train_without_lags_part = y_train_without_lags[:split_len * (i - splits)]\n",
    "        \n",
    "        X_train_with_lags_part = X_train_with_lags[:split_len * (i - splits)]\n",
    "        y_train_with_lags_part = y_train_with_lags[:split_len * (i - splits)]\n",
    "\n",
    "        if i == splits - 1:\n",
    "            X_val_without_lags = X_train_without_lags[split_len * (i - splits):]\n",
    "            X_val_with_lags = X_train_with_lags[split_len * (i - splits):]\n",
    "        else:\n",
    "            X_val_without_lags = X_train_without_lags[split_len * (i - splits):split_len * (i + 1 - splits)]\n",
    "            X_val_with_lags = X_train_with_lags[split_len * (i - splits):split_len * (i + 1 - splits)]\n",
    "\n",
    "\n",
    "        holt_winters_forecasting(y_train_full_part, ensemble_preds[:, 0], preds_index, split_len)\n",
    "        holt_winters_forecasting(y_train_without_lags_part, ensemble_preds[:, 1], preds_index, split_len)\n",
    "        \n",
    "        path = f'model_hyperparameters/rf_params/without_lags/rf_s_{s}_f_{f.lower().replace(\"/\", \"_or_\")}.csv'\n",
    "        rf_forecasting(X_train_without_lags_part, y_train_without_lags_part, X_val_without_lags, path, ensemble_preds[:, 2], preds_index)\n",
    "\n",
    "        path = f'model_hyperparameters/rf_params/with_lags/rf_s_{s}_f_{f.lower().replace(\"/\", \"_or_\")}.csv'\n",
    "        rf_forecasting(X_train_with_lags_part, y_train_with_lags_part, X_val_with_lags, path, ensemble_preds[:, 3], preds_index)\n",
    "\n",
    "\n",
    "        path = f'model_hyperparameters/knn_params/without_lags/knn_s_{s}_f_{f.lower().replace(\"/\", \"_or_\")}.csv'\n",
    "        knn_forecasting(X_train_without_lags_part, y_train_without_lags_part, X_val_without_lags, path, ensemble_preds[:, 4], preds_index)\n",
    "\n",
    "        path = f'model_hyperparameters/knn_params/with_lags/knn_s_{s}_f_{f.lower().replace(\"/\", \"_or_\")}.csv'\n",
    "        knn_forecasting(X_train_with_lags_part, y_train_with_lags_part, X_val_with_lags, path, ensemble_preds[:, 5], preds_index)\n",
    "\n",
    "\n",
    "        path = f'model_hyperparameters/xgb_params/without_lags/xgb_s_{s}_f_{f.lower().replace(\"/\", \"_or_\")}.csv'\n",
    "        xgb_forecasting(X_train_without_lags_part, y_train_without_lags_part, X_val_without_lags, path, ensemble_preds[:, 6], preds_index)\n",
    "\n",
    "        path = f'model_hyperparameters/xgb_params/with_lags/xgb_s_{s}_f_{f.lower().replace(\"/\", \"_or_\")}.csv'\n",
    "        xgb_forecasting(X_train_with_lags_part, y_train_with_lags_part, X_val_with_lags, path, ensemble_preds[:, 7], preds_index)\n",
    "\n",
    "\n",
    "        path = f'model_hyperparameters/lgbm_params/without_lags/lgbm_s_{s}_f_{f.lower().replace(\"/\", \"_or_\")}.csv'\n",
    "        lgbm_forecasting(X_train_without_lags_part, y_train_without_lags_part, X_val_without_lags, path, ensemble_preds[:, 8], preds_index)\n",
    "\n",
    "        path = f'model_hyperparameters/lgbm_params/with_lags/lgbm_s_{s}_f_{f.lower().replace(\"/\", \"_or_\")}.csv'\n",
    "        lgbm_forecasting(X_train_with_lags_part, y_train_with_lags_part, X_val_with_lags, path, ensemble_preds[:, 9], preds_index)\n",
    "    return ensemble_preds"
   ]
  },
  {
   "cell_type": "code",
   "execution_count": null,
   "id": "fd3d32c9-d6e7-42a3-b7a6-d938818ccaa8",
   "metadata": {},
   "outputs": [],
   "source": [
    "splits = 4\n",
    "\n",
    "if splits > 1:\n",
    "    ending = 's'\n",
    "elif splits == 1:\n",
    "    ending = ''\n",
    "\n",
    "folder_name = f'10_models_{splits}_split{ending}'"
   ]
  },
  {
   "cell_type": "code",
   "execution_count": null,
   "id": "9a3abf09-d735-4e75-b799-3a6509f56475",
   "metadata": {},
   "outputs": [],
   "source": [
    "if not os.path.exists(f'predictions/cv_predictions/10_models'):\n",
    "    os.makedirs(f'predictions/cv_predictions/10_models')\n",
    "\n",
    "rewrite = False\n",
    "cols = ['holt_winters_full', 'holt_winters_cleaned', 'rf_without_lags', 'rf_with_lags', 'knn_without_lags', \n",
    "        'knn_with_lags', 'xgb_without_lags', 'xgb_with_lags', 'lgbm_without_lags', 'lgbm_with_lags',]\n",
    "optuna.logging.set_verbosity(optuna.logging.WARNING)\n",
    "\n",
    "for s, f in unique_sf:\n",
    "    path = f'predictions/cv_predictions/10_models/cv_preds_s_{s}_f_{f.lower().replace(\"/\", \"_or_\")}.csv'\n",
    "    if not os.path.exists(path) or rewrite:\n",
    "        preds = make_cv_preds_10(s, f)\n",
    "        preds = pd.DataFrame(preds, columns=cols)\n",
    "        preds.to_csv(path)"
   ]
  },
  {
   "cell_type": "code",
   "execution_count": null,
   "id": "2f2053da-2d7f-4963-8290-719a4336914c",
   "metadata": {},
   "outputs": [],
   "source": [
    "def ensemble_objective_10(trial):\n",
    "    w1 = trial.suggest_float('w_holt_winters_full', 0, 1)\n",
    "    w2 = trial.suggest_float('w_holt_winters_cleaned', 0, 1)\n",
    "    w3 = trial.suggest_float('w_rf_without_lags', 0, 1)\n",
    "    w4 = trial.suggest_float('w_rf_with_lags', 0, 1)\n",
    "    w5 = trial.suggest_float('w_knn_without_lags', 0, 1)\n",
    "    w6 = trial.suggest_float('w_knn_with_lags', 0, 1)\n",
    "    w7 = trial.suggest_float('w_xgb_without_lags', 0, 1)\n",
    "    w8 = trial.suggest_float('w_xgb_with_lags', 0, 1)\n",
    "    w9 = trial.suggest_float('w_lgbm_without_lags', 0, 1)\n",
    "    w10 = trial.suggest_float('w_lgbm_with_lags', 0, 1)\n",
    "\n",
    "    weights = np.array([w1, w2, w3, w4, w5, w6, w7, w8, w9, w10])\n",
    "    weights /= np.sum(weights)\n",
    "\n",
    "    loss = 0\n",
    "    \n",
    "    for i in range(splits):\n",
    "        y_true = y_train[split_len * i:split_len * (i + 1)]\n",
    "        y_pred_all = ensemble_preds[split_len * i:split_len * (i + 1)]\n",
    "        y_pred = np.dot(weights, y_pred_all.T)\n",
    "\n",
    "        loss += rmsle(y_true, y_pred)\n",
    "\n",
    "    return loss / splits"
   ]
  },
  {
   "cell_type": "code",
   "execution_count": null,
   "id": "1140771d-c215-43a3-9877-04ac94af169b",
   "metadata": {},
   "outputs": [],
   "source": [
    "%%time\n",
    "\n",
    "if not os.path.exists(f'model_hyperparameters/ensemble_weights/{folder_name}'):\n",
    "    os.makedirs(f'model_hyperparameters/ensemble_weights/{folder_name}')\n",
    "\n",
    "rewrite = False\n",
    "optuna.logging.set_verbosity(optuna.logging.WARNING)\n",
    "\n",
    "for s, f in unique_sf:\n",
    "    path = f'model_hyperparameters/ensemble_weights/{folder_name}/ensemble_weights_s_{s}_f_{f.lower().replace(\"/\", \"_or_\")}.csv'\n",
    "    ensemble_preds_path = f'predictions/cv_predictions/10_models/cv_preds_s_{s}_f_{f.lower().replace(\"/\", \"_or_\")}.csv'\n",
    "    if not os.path.exists(path) or rewrite: \n",
    "        split_len = 16\n",
    "        \n",
    "        y_train = train_with_lags_dict[(s, f)]['sales'][(-1) * split_len * splits:]\n",
    "        \n",
    "        ensemble_preds = pd.read_csv(ensemble_preds_path, index_col=0).iloc[(-1) * split_len * splits:, :]\n",
    "    \n",
    "        study = optuna.create_study(direction='minimize')\n",
    "        study.optimize(ensemble_objective_10, n_trials=500, n_jobs=5)\n",
    "    \n",
    "        best_params = study.best_params\n",
    "        best_params = pd.Series(best_params)\n",
    "        best_params /= best_params.sum()\n",
    "            \n",
    "        print(best_params, study.best_value)\n",
    "\n",
    "        best_params.to_csv(path, index_label='model', header=['weight'])"
   ]
  },
  {
   "cell_type": "code",
   "execution_count": null,
   "id": "a48bb6ad-b2b4-4f72-8bc9-bc9893265fd3",
   "metadata": {},
   "outputs": [],
   "source": [
    "holt_winters_full = pd.read_csv('predictions/holt_winters_full_preds.csv', index_col=0).values\n",
    "holt_winters_cleaned = pd.read_csv('predictions/holt_winters_cleaned_preds.csv', index_col=0).values\n",
    "\n",
    "rf_without_lags_preds = pd.read_csv('predictions/rf_without_lags_preds.csv', index_col=0).values\n",
    "rf_with_lags_preds = pd.read_csv('predictions/rf_with_lags_preds.csv', index_col=0).values\n",
    "\n",
    "knn_without_lags_preds = pd.read_csv('predictions/knn_without_lags_preds.csv', index_col=0).values\n",
    "knn_with_lags_preds = pd.read_csv('predictions/knn_with_lags_preds.csv', index_col=0).values\n",
    "\n",
    "xgb_without_lags_preds = pd.read_csv('predictions/xgb_without_lags_preds.csv', index_col=0).values\n",
    "xgb_with_lags_preds = pd.read_csv('predictions/xgb_with_lags_preds.csv', index_col=0).values\n",
    "\n",
    "lgbm_without_lags_preds = pd.read_csv('predictions/lgbm_without_lags_preds.csv', index_col=0).values\n",
    "lgbm_with_lags_preds = pd.read_csv('predictions/lgbm_with_lags_preds.csv', index_col=0).values\n",
    "\n",
    "model_preds = np.hstack([holt_winters_full, holt_winters_cleaned, rf_without_lags_preds, rf_with_lags_preds,\n",
    "                        knn_without_lags_preds, knn_with_lags_preds, xgb_without_lags_preds, xgb_with_lags_preds,\n",
    "                        lgbm_without_lags_preds, lgbm_with_lags_preds])\n",
    "\n",
    "ensemble_10_models_preds = pd.Series(np.zeros(28512))\n",
    "\n",
    "for s, f in unique_sf:\n",
    "    preds_index = test_base_dict[(s, f)].index\n",
    "    \n",
    "    path = f'model_hyperparameters/ensemble_weights/{folder_name}/ensemble_weights_s_{s}_f_{f.lower().replace(\"/\", \"_or_\")}.csv'\n",
    "    weights = pd.read_csv(path, index_col=0).values.reshape(-1)\n",
    "    \n",
    "    ensemble_10_models_preds[preds_index] = np.dot(weights, model_preds[preds_index, :].T)"
   ]
  },
  {
   "cell_type": "code",
   "execution_count": null,
   "id": "b546a1ce-b64e-4833-a5db-cf79888267e7",
   "metadata": {},
   "outputs": [],
   "source": [
    "ensemble_10_models_preds.index = test_index\n",
    "\n",
    "path = 'predictions/ensemble_' + folder_name + '_preds.csv'\n",
    "ensemble_10_models_preds.to_csv(path, header=['sales'], index_label=['id'])"
   ]
  },
  {
   "attachments": {},
   "cell_type": "markdown",
   "id": "dae69b46-5395-4482-8da9-5d380d132c1d",
   "metadata": {},
   "source": [
    "*1 split*: **Kaggle RMSLE score: 0.40224**\n",
    "<br>\n",
    "*2 splits*: **Kaggle RMSLE score: 0.40173**\n",
    "<br>\n",
    "*3 splits*: **Kaggle RMSLE score: 0.40093**\n",
    "<br>\n",
    "*4 splits*: **Kaggle RMSLE score: 0.40075**\n",
    "<br><br>\n",
    "It seems that the more splits in validation scheme - the better the result."
   ]
  },
  {
   "cell_type": "markdown",
   "id": "83fd1c0e-7c5f-411b-8879-19ab06850aa1",
   "metadata": {},
   "source": [
    "### Final submissions"
   ]
  },
  {
   "cell_type": "markdown",
   "id": "c69c90ed-0226-44db-b2e4-51a95f9faf7f",
   "metadata": {},
   "source": [
    "Taking into account previous results, I tried to find the best set of ensemble weights."
   ]
  },
  {
   "cell_type": "code",
   "execution_count": null,
   "id": "cc201a57-6473-402c-ac0a-d20a90ad88a9",
   "metadata": {},
   "outputs": [],
   "source": [
    "w1 = 0.2\n",
    "w2 = 0.12\n",
    "w3 = 0.32\n",
    "w4 = 0.36\n",
    "\n",
    "path = f'predictions/ensemble_10_models_{str(w1).replace('.', '')}_{str(w2).replace('.', '')}_{str(w3).replace('.', '')}_{str(w4).replace('.', '')}.csv'\n",
    "\n",
    "ensemble_weighted_preds = pd.Series(np.zeros(28512), index=test_index)\n",
    "\n",
    "ensemble_weighted_preds = w1 * ensemble_preds_array[:, 0] + w2 * ensemble_preds_array[:, 1] +\\\n",
    "w3 * ensemble_preds_array[:, 2] + w4 * ensemble_preds_array[:, 3]\n",
    "\n",
    "pd.Series(ensemble_weighted_preds, index=test_index).to_csv(path, header=['sales'], index_label=['id'])"
   ]
  },
  {
   "cell_type": "markdown",
   "id": "db107298-5301-4323-afde-800f7a7d267a",
   "metadata": {},
   "source": [
    "**0.2** for the 1 split, **0.12** for the 2 splits, **0.32** for the 3 splits, **0.36** for the 4 splits turned out to be the best set of weights among other checked.\n",
    "\n",
    "It improved the result reaching **Kaggle RMSLE score: 0.39999**"
   ]
  },
  {
   "cell_type": "markdown",
   "id": "317a934d-95da-4072-909e-e8448b6b7242",
   "metadata": {},
   "source": [
    "Finally I decided to play with different scaling factors for the ensemble and see whether it would produce better results.\n",
    "\n",
    "It's worth mentioning that, same as tuning ensemble weights in previous step, such approach was only used to push **Kaggle results** - it uses testing dataset to determine scaling factor for ensemble."
   ]
  },
  {
   "cell_type": "code",
   "execution_count": null,
   "id": "6aaabc28-2ead-473d-b1be-7135280eaf75",
   "metadata": {},
   "outputs": [],
   "source": [
    "load_path = 'predictions/ensemble_10_models_02_012_032_036.csv'\n",
    "scale = 0.93375\n",
    "\n",
    "ensemble_weighted_preds = pd.read_csv(load_path, index_col=0)\n",
    "ensemble_weighted_preds *= scale\n",
    "\n",
    "save_path = load_path[:-4] + '_scale_' + str(scale).replace('.', '') + '.csv'\n",
    "\n",
    "ensemble_weighted_preds.to_csv(save_path, header=['sales'], index_label=['id'])"
   ]
  },
  {
   "cell_type": "markdown",
   "id": "d42c5ef6-e62f-4519-86d9-68ece9af044b",
   "metadata": {},
   "source": [
    "It turned out that scaling factor of **0.93375** makes it possible to push **Kaggle RMSLE score** to **0.39528**\n",
    "\n",
    "This doesn't mean that this scaling factor should be used for future predictions, it just shows that for this particular testing period there were some other factors that my models didn't catch or that were unpredictable at all, which on average caused a decrease in the number of sales during this period."
   ]
  },
  {
   "cell_type": "markdown",
   "id": "2be36279-b1b4-4711-8a23-512899712fab",
   "metadata": {
    "jp-MarkdownHeadingCollapsed": true
   },
   "source": [
    "# The Result"
   ]
  },
  {
   "attachments": {
    "56dab3c3-5e4a-4328-b5d6-8e1708fda1ca.png": {
     "image/png": "[encoded data removed]"
    }
   },
   "cell_type": "markdown",
   "id": "9996f14f-b130-4541-9201-467275592e35",
   "metadata": {},
   "source": [
    "With the final submission I managed to place **46th** place out of **610** participants (as of 06.09.2024, this **Kaggle competition** has two-month rolling leaderboard, so results are dissappearing after 2 months), reaching **top 7.6%** of the leaderboard!\n",
    "\n",
    "<div style=\"text-align: center;\">\n",
    "    <img src=\"attachment:56dab3c3-5e4a-4328-b5d6-8e1708fda1ca.png\" \n",
    "        alt=\"Leaderboard\" style=\"width: 800px; height: auto;\">\n",
    "</div>"
   ]
  }
 ],
 "metadata": {
  "kernelspec": {
   "display_name": "Python 3 (ipykernel)",
   "language": "python",
   "name": "python3"
  },
  "language_info": {
   "codemirror_mode": {
    "name": "ipython",
    "version": 3
   },
   "file_extension": ".py",
   "mimetype": "text/x-python",
   "name": "python",
   "nbconvert_exporter": "python",
   "pygments_lexer": "ipython3",
   "version": "3.12.4"
  }
 },
 "nbformat": 4,
 "nbformat_minor": 5
}
